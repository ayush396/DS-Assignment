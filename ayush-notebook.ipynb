{
 "cells": [
  {
   "cell_type": "markdown",
   "id": "b6833d5a",
   "metadata": {
    "papermill": {
     "duration": 0.028694,
     "end_time": "2022-02-28T17:52:54.408411",
     "exception": false,
     "start_time": "2022-02-28T17:52:54.379717",
     "status": "completed"
    },
    "tags": []
   },
   "source": [
    "# Assignment-1                                                         \n",
    "                                                                                             Ayush Pushkarna \n"
   ]
  },
  {
   "cell_type": "markdown",
   "id": "1d340e09",
   "metadata": {
    "papermill": {
     "duration": 0.027683,
     "end_time": "2022-02-28T17:52:54.465645",
     "exception": false,
     "start_time": "2022-02-28T17:52:54.437962",
     "status": "completed"
    },
    "tags": []
   },
   "source": [
    "Importing the libraries"
   ]
  },
  {
   "cell_type": "code",
   "execution_count": 1,
   "id": "6830528e",
   "metadata": {
    "execution": {
     "iopub.execute_input": "2022-02-28T17:52:54.534230Z",
     "iopub.status.busy": "2022-02-28T17:52:54.531435Z",
     "iopub.status.idle": "2022-02-28T17:52:54.544917Z",
     "shell.execute_reply": "2022-02-28T17:52:54.545509Z",
     "shell.execute_reply.started": "2022-02-28T17:47:49.034088Z"
    },
    "papermill": {
     "duration": 0.050761,
     "end_time": "2022-02-28T17:52:54.545768",
     "exception": false,
     "start_time": "2022-02-28T17:52:54.495007",
     "status": "completed"
    },
    "tags": []
   },
   "outputs": [
    {
     "name": "stdout",
     "output_type": "stream",
     "text": [
      "/kaggle/input/assignmentdatasci/sample_submission.csv\n",
      "/kaggle/input/assignmentdatasci/train.csv\n",
      "/kaggle/input/assignmentdatasci/test.csv\n"
     ]
    }
   ],
   "source": [
    "# This Python 3 environment comes with many helpful analytics libraries installed\n",
    "# It is defined by the kaggle/python Docker image: https://github.com/kaggle/docker-python\n",
    "# For example, here's several helpful packages to load\n",
    "\n",
    "import numpy as np # linear algebra\n",
    "import pandas as pd # data processing, CSV file I/O (e.g. pd.read_csv)\n",
    "\n",
    "# Input data files are available in the read-only \"../input/\" directory\n",
    "# For example, running this (by clicking run or pressing Shift+Enter) will list all files under the input directory\n",
    "\n",
    "import os\n",
    "for dirname, _, filenames in os.walk('/kaggle/input'):\n",
    "    for filename in filenames:\n",
    "        print(os.path.join(dirname, filename))\n",
    "\n",
    "# You can write up to 20GB to the current directory (/kaggle/working/) that gets preserved as output when you create a version using \"Save & Run All\" \n",
    "# You can also write temporary files to /kaggle/temp/, but they won't be saved outside of the current session"
   ]
  },
  {
   "cell_type": "code",
   "execution_count": 2,
   "id": "d22da856",
   "metadata": {
    "execution": {
     "iopub.execute_input": "2022-02-28T17:52:54.607918Z",
     "iopub.status.busy": "2022-02-28T17:52:54.607275Z",
     "iopub.status.idle": "2022-02-28T17:52:58.485606Z",
     "shell.execute_reply": "2022-02-28T17:52:58.486759Z",
     "shell.execute_reply.started": "2022-02-28T17:47:49.046054Z"
    },
    "papermill": {
     "duration": 3.911695,
     "end_time": "2022-02-28T17:52:58.486988",
     "exception": false,
     "start_time": "2022-02-28T17:52:54.575293",
     "status": "completed"
    },
    "tags": []
   },
   "outputs": [],
   "source": [
    "import cudf as cd\n",
    "import cupy as cp\n",
    "import cuml as cm\n",
    "import pandas as pd\n",
    "import sklearn\n",
    "import numpy as np\n",
    "df = pd.read_csv('../input/assignmentdatasci/train.csv')\n",
    "test = pd.read_csv('../input/assignmentdatasci/test.csv')"
   ]
  },
  {
   "cell_type": "markdown",
   "id": "d0529dd0",
   "metadata": {
    "papermill": {
     "duration": 0.044833,
     "end_time": "2022-02-28T17:52:58.581538",
     "exception": false,
     "start_time": "2022-02-28T17:52:58.536705",
     "status": "completed"
    },
    "tags": []
   },
   "source": [
    "Preparing the test dataset"
   ]
  },
  {
   "cell_type": "code",
   "execution_count": 3,
   "id": "07c0c3fa",
   "metadata": {
    "execution": {
     "iopub.execute_input": "2022-02-28T17:52:58.646773Z",
     "iopub.status.busy": "2022-02-28T17:52:58.646128Z",
     "iopub.status.idle": "2022-02-28T17:52:58.695077Z",
     "shell.execute_reply": "2022-02-28T17:52:58.695576Z",
     "shell.execute_reply.started": "2022-02-28T17:47:49.089063Z"
    },
    "papermill": {
     "duration": 0.082139,
     "end_time": "2022-02-28T17:52:58.695760",
     "exception": false,
     "start_time": "2022-02-28T17:52:58.613621",
     "status": "completed"
    },
    "tags": []
   },
   "outputs": [
    {
     "data": {
      "text/html": [
       "<div>\n",
       "<style scoped>\n",
       "    .dataframe tbody tr th:only-of-type {\n",
       "        vertical-align: middle;\n",
       "    }\n",
       "\n",
       "    .dataframe tbody tr th {\n",
       "        vertical-align: top;\n",
       "    }\n",
       "\n",
       "    .dataframe thead th {\n",
       "        text-align: right;\n",
       "    }\n",
       "</style>\n",
       "<table border=\"1\" class=\"dataframe\">\n",
       "  <thead>\n",
       "    <tr style=\"text-align: right;\">\n",
       "      <th></th>\n",
       "      <th>Id</th>\n",
       "      <th>MSSubClass</th>\n",
       "      <th>MSZoning</th>\n",
       "      <th>LotFrontage</th>\n",
       "      <th>LotArea</th>\n",
       "      <th>Street</th>\n",
       "      <th>Alley</th>\n",
       "      <th>LotShape</th>\n",
       "      <th>LandContour</th>\n",
       "      <th>Utilities</th>\n",
       "      <th>...</th>\n",
       "      <th>PoolArea</th>\n",
       "      <th>PoolQC</th>\n",
       "      <th>Fence</th>\n",
       "      <th>MiscFeature</th>\n",
       "      <th>MiscVal</th>\n",
       "      <th>MoSold</th>\n",
       "      <th>YrSold</th>\n",
       "      <th>SaleType</th>\n",
       "      <th>SaleCondition</th>\n",
       "      <th>SalePrice</th>\n",
       "    </tr>\n",
       "  </thead>\n",
       "  <tbody>\n",
       "    <tr>\n",
       "      <th>0</th>\n",
       "      <td>1461</td>\n",
       "      <td>20</td>\n",
       "      <td>RH</td>\n",
       "      <td>80.0</td>\n",
       "      <td>11622</td>\n",
       "      <td>Pave</td>\n",
       "      <td>NaN</td>\n",
       "      <td>Reg</td>\n",
       "      <td>Lvl</td>\n",
       "      <td>AllPub</td>\n",
       "      <td>...</td>\n",
       "      <td>0</td>\n",
       "      <td>NaN</td>\n",
       "      <td>MnPrv</td>\n",
       "      <td>NaN</td>\n",
       "      <td>0</td>\n",
       "      <td>6</td>\n",
       "      <td>2010</td>\n",
       "      <td>WD</td>\n",
       "      <td>Normal</td>\n",
       "      <td>169277.052498</td>\n",
       "    </tr>\n",
       "    <tr>\n",
       "      <th>1</th>\n",
       "      <td>1462</td>\n",
       "      <td>20</td>\n",
       "      <td>RL</td>\n",
       "      <td>81.0</td>\n",
       "      <td>14267</td>\n",
       "      <td>Pave</td>\n",
       "      <td>NaN</td>\n",
       "      <td>IR1</td>\n",
       "      <td>Lvl</td>\n",
       "      <td>AllPub</td>\n",
       "      <td>...</td>\n",
       "      <td>0</td>\n",
       "      <td>NaN</td>\n",
       "      <td>NaN</td>\n",
       "      <td>Gar2</td>\n",
       "      <td>12500</td>\n",
       "      <td>6</td>\n",
       "      <td>2010</td>\n",
       "      <td>WD</td>\n",
       "      <td>Normal</td>\n",
       "      <td>187758.393989</td>\n",
       "    </tr>\n",
       "    <tr>\n",
       "      <th>2</th>\n",
       "      <td>1463</td>\n",
       "      <td>60</td>\n",
       "      <td>RL</td>\n",
       "      <td>74.0</td>\n",
       "      <td>13830</td>\n",
       "      <td>Pave</td>\n",
       "      <td>NaN</td>\n",
       "      <td>IR1</td>\n",
       "      <td>Lvl</td>\n",
       "      <td>AllPub</td>\n",
       "      <td>...</td>\n",
       "      <td>0</td>\n",
       "      <td>NaN</td>\n",
       "      <td>MnPrv</td>\n",
       "      <td>NaN</td>\n",
       "      <td>0</td>\n",
       "      <td>3</td>\n",
       "      <td>2010</td>\n",
       "      <td>WD</td>\n",
       "      <td>Normal</td>\n",
       "      <td>183583.683570</td>\n",
       "    </tr>\n",
       "    <tr>\n",
       "      <th>3</th>\n",
       "      <td>1464</td>\n",
       "      <td>60</td>\n",
       "      <td>RL</td>\n",
       "      <td>78.0</td>\n",
       "      <td>9978</td>\n",
       "      <td>Pave</td>\n",
       "      <td>NaN</td>\n",
       "      <td>IR1</td>\n",
       "      <td>Lvl</td>\n",
       "      <td>AllPub</td>\n",
       "      <td>...</td>\n",
       "      <td>0</td>\n",
       "      <td>NaN</td>\n",
       "      <td>NaN</td>\n",
       "      <td>NaN</td>\n",
       "      <td>0</td>\n",
       "      <td>6</td>\n",
       "      <td>2010</td>\n",
       "      <td>WD</td>\n",
       "      <td>Normal</td>\n",
       "      <td>179317.477511</td>\n",
       "    </tr>\n",
       "    <tr>\n",
       "      <th>4</th>\n",
       "      <td>1465</td>\n",
       "      <td>120</td>\n",
       "      <td>RL</td>\n",
       "      <td>43.0</td>\n",
       "      <td>5005</td>\n",
       "      <td>Pave</td>\n",
       "      <td>NaN</td>\n",
       "      <td>IR1</td>\n",
       "      <td>HLS</td>\n",
       "      <td>AllPub</td>\n",
       "      <td>...</td>\n",
       "      <td>0</td>\n",
       "      <td>NaN</td>\n",
       "      <td>NaN</td>\n",
       "      <td>NaN</td>\n",
       "      <td>0</td>\n",
       "      <td>1</td>\n",
       "      <td>2010</td>\n",
       "      <td>WD</td>\n",
       "      <td>Normal</td>\n",
       "      <td>150730.079977</td>\n",
       "    </tr>\n",
       "    <tr>\n",
       "      <th>...</th>\n",
       "      <td>...</td>\n",
       "      <td>...</td>\n",
       "      <td>...</td>\n",
       "      <td>...</td>\n",
       "      <td>...</td>\n",
       "      <td>...</td>\n",
       "      <td>...</td>\n",
       "      <td>...</td>\n",
       "      <td>...</td>\n",
       "      <td>...</td>\n",
       "      <td>...</td>\n",
       "      <td>...</td>\n",
       "      <td>...</td>\n",
       "      <td>...</td>\n",
       "      <td>...</td>\n",
       "      <td>...</td>\n",
       "      <td>...</td>\n",
       "      <td>...</td>\n",
       "      <td>...</td>\n",
       "      <td>...</td>\n",
       "      <td>...</td>\n",
       "    </tr>\n",
       "    <tr>\n",
       "      <th>1454</th>\n",
       "      <td>2915</td>\n",
       "      <td>160</td>\n",
       "      <td>RM</td>\n",
       "      <td>21.0</td>\n",
       "      <td>1936</td>\n",
       "      <td>Pave</td>\n",
       "      <td>NaN</td>\n",
       "      <td>Reg</td>\n",
       "      <td>Lvl</td>\n",
       "      <td>AllPub</td>\n",
       "      <td>...</td>\n",
       "      <td>0</td>\n",
       "      <td>NaN</td>\n",
       "      <td>NaN</td>\n",
       "      <td>NaN</td>\n",
       "      <td>0</td>\n",
       "      <td>6</td>\n",
       "      <td>2006</td>\n",
       "      <td>WD</td>\n",
       "      <td>Normal</td>\n",
       "      <td>167081.220949</td>\n",
       "    </tr>\n",
       "    <tr>\n",
       "      <th>1455</th>\n",
       "      <td>2916</td>\n",
       "      <td>160</td>\n",
       "      <td>RM</td>\n",
       "      <td>21.0</td>\n",
       "      <td>1894</td>\n",
       "      <td>Pave</td>\n",
       "      <td>NaN</td>\n",
       "      <td>Reg</td>\n",
       "      <td>Lvl</td>\n",
       "      <td>AllPub</td>\n",
       "      <td>...</td>\n",
       "      <td>0</td>\n",
       "      <td>NaN</td>\n",
       "      <td>NaN</td>\n",
       "      <td>NaN</td>\n",
       "      <td>0</td>\n",
       "      <td>4</td>\n",
       "      <td>2006</td>\n",
       "      <td>WD</td>\n",
       "      <td>Abnorml</td>\n",
       "      <td>164788.778231</td>\n",
       "    </tr>\n",
       "    <tr>\n",
       "      <th>1456</th>\n",
       "      <td>2917</td>\n",
       "      <td>20</td>\n",
       "      <td>RL</td>\n",
       "      <td>160.0</td>\n",
       "      <td>20000</td>\n",
       "      <td>Pave</td>\n",
       "      <td>NaN</td>\n",
       "      <td>Reg</td>\n",
       "      <td>Lvl</td>\n",
       "      <td>AllPub</td>\n",
       "      <td>...</td>\n",
       "      <td>0</td>\n",
       "      <td>NaN</td>\n",
       "      <td>NaN</td>\n",
       "      <td>NaN</td>\n",
       "      <td>0</td>\n",
       "      <td>9</td>\n",
       "      <td>2006</td>\n",
       "      <td>WD</td>\n",
       "      <td>Abnorml</td>\n",
       "      <td>219222.423400</td>\n",
       "    </tr>\n",
       "    <tr>\n",
       "      <th>1457</th>\n",
       "      <td>2918</td>\n",
       "      <td>85</td>\n",
       "      <td>RL</td>\n",
       "      <td>62.0</td>\n",
       "      <td>10441</td>\n",
       "      <td>Pave</td>\n",
       "      <td>NaN</td>\n",
       "      <td>Reg</td>\n",
       "      <td>Lvl</td>\n",
       "      <td>AllPub</td>\n",
       "      <td>...</td>\n",
       "      <td>0</td>\n",
       "      <td>NaN</td>\n",
       "      <td>MnPrv</td>\n",
       "      <td>Shed</td>\n",
       "      <td>700</td>\n",
       "      <td>7</td>\n",
       "      <td>2006</td>\n",
       "      <td>WD</td>\n",
       "      <td>Normal</td>\n",
       "      <td>184924.279659</td>\n",
       "    </tr>\n",
       "    <tr>\n",
       "      <th>1458</th>\n",
       "      <td>2919</td>\n",
       "      <td>60</td>\n",
       "      <td>RL</td>\n",
       "      <td>74.0</td>\n",
       "      <td>9627</td>\n",
       "      <td>Pave</td>\n",
       "      <td>NaN</td>\n",
       "      <td>Reg</td>\n",
       "      <td>Lvl</td>\n",
       "      <td>AllPub</td>\n",
       "      <td>...</td>\n",
       "      <td>0</td>\n",
       "      <td>NaN</td>\n",
       "      <td>NaN</td>\n",
       "      <td>NaN</td>\n",
       "      <td>0</td>\n",
       "      <td>11</td>\n",
       "      <td>2006</td>\n",
       "      <td>WD</td>\n",
       "      <td>Normal</td>\n",
       "      <td>187741.866657</td>\n",
       "    </tr>\n",
       "  </tbody>\n",
       "</table>\n",
       "<p>1459 rows × 81 columns</p>\n",
       "</div>"
      ],
      "text/plain": [
       "        Id  MSSubClass MSZoning  LotFrontage  LotArea Street Alley LotShape  \\\n",
       "0     1461          20       RH         80.0    11622   Pave   NaN      Reg   \n",
       "1     1462          20       RL         81.0    14267   Pave   NaN      IR1   \n",
       "2     1463          60       RL         74.0    13830   Pave   NaN      IR1   \n",
       "3     1464          60       RL         78.0     9978   Pave   NaN      IR1   \n",
       "4     1465         120       RL         43.0     5005   Pave   NaN      IR1   \n",
       "...    ...         ...      ...          ...      ...    ...   ...      ...   \n",
       "1454  2915         160       RM         21.0     1936   Pave   NaN      Reg   \n",
       "1455  2916         160       RM         21.0     1894   Pave   NaN      Reg   \n",
       "1456  2917          20       RL        160.0    20000   Pave   NaN      Reg   \n",
       "1457  2918          85       RL         62.0    10441   Pave   NaN      Reg   \n",
       "1458  2919          60       RL         74.0     9627   Pave   NaN      Reg   \n",
       "\n",
       "     LandContour Utilities  ... PoolArea PoolQC  Fence MiscFeature MiscVal  \\\n",
       "0            Lvl    AllPub  ...        0    NaN  MnPrv         NaN       0   \n",
       "1            Lvl    AllPub  ...        0    NaN    NaN        Gar2   12500   \n",
       "2            Lvl    AllPub  ...        0    NaN  MnPrv         NaN       0   \n",
       "3            Lvl    AllPub  ...        0    NaN    NaN         NaN       0   \n",
       "4            HLS    AllPub  ...        0    NaN    NaN         NaN       0   \n",
       "...          ...       ...  ...      ...    ...    ...         ...     ...   \n",
       "1454         Lvl    AllPub  ...        0    NaN    NaN         NaN       0   \n",
       "1455         Lvl    AllPub  ...        0    NaN    NaN         NaN       0   \n",
       "1456         Lvl    AllPub  ...        0    NaN    NaN         NaN       0   \n",
       "1457         Lvl    AllPub  ...        0    NaN  MnPrv        Shed     700   \n",
       "1458         Lvl    AllPub  ...        0    NaN    NaN         NaN       0   \n",
       "\n",
       "     MoSold YrSold  SaleType  SaleCondition      SalePrice  \n",
       "0         6   2010        WD         Normal  169277.052498  \n",
       "1         6   2010        WD         Normal  187758.393989  \n",
       "2         3   2010        WD         Normal  183583.683570  \n",
       "3         6   2010        WD         Normal  179317.477511  \n",
       "4         1   2010        WD         Normal  150730.079977  \n",
       "...     ...    ...       ...            ...            ...  \n",
       "1454      6   2006        WD         Normal  167081.220949  \n",
       "1455      4   2006        WD        Abnorml  164788.778231  \n",
       "1456      9   2006        WD        Abnorml  219222.423400  \n",
       "1457      7   2006        WD         Normal  184924.279659  \n",
       "1458     11   2006        WD         Normal  187741.866657  \n",
       "\n",
       "[1459 rows x 81 columns]"
      ]
     },
     "execution_count": 3,
     "metadata": {},
     "output_type": "execute_result"
    }
   ],
   "source": [
    "sample = pd.read_csv('../input/assignmentdatasci/sample_submission.csv')\n",
    "test['SalePrice'] = sample['SalePrice']\n",
    "test"
   ]
  },
  {
   "cell_type": "markdown",
   "id": "47452dfd",
   "metadata": {
    "papermill": {
     "duration": 0.031929,
     "end_time": "2022-02-28T17:52:58.760377",
     "exception": false,
     "start_time": "2022-02-28T17:52:58.728448",
     "status": "completed"
    },
    "tags": []
   },
   "source": [
    "Separating input and output columns"
   ]
  },
  {
   "cell_type": "code",
   "execution_count": 4,
   "id": "2916c070",
   "metadata": {
    "execution": {
     "iopub.execute_input": "2022-02-28T17:52:58.835922Z",
     "iopub.status.busy": "2022-02-28T17:52:58.834947Z",
     "iopub.status.idle": "2022-02-28T17:52:58.840554Z",
     "shell.execute_reply": "2022-02-28T17:52:58.839983Z",
     "shell.execute_reply.started": "2022-02-28T17:47:49.125975Z"
    },
    "papermill": {
     "duration": 0.045618,
     "end_time": "2022-02-28T17:52:58.840681",
     "exception": false,
     "start_time": "2022-02-28T17:52:58.795063",
     "status": "completed"
    },
    "tags": []
   },
   "outputs": [],
   "source": [
    "X = df.iloc[:,:-1]\n",
    "columns = X.columns\n",
    "Y = df.iloc[:,-1]\n",
    "X_test = test.iloc[:,:-1]\n",
    "Y_test = test.iloc[:,-1]"
   ]
  },
  {
   "cell_type": "code",
   "execution_count": 5,
   "id": "363d2ca9",
   "metadata": {
    "execution": {
     "iopub.execute_input": "2022-02-28T17:52:58.911322Z",
     "iopub.status.busy": "2022-02-28T17:52:58.910754Z",
     "iopub.status.idle": "2022-02-28T17:52:58.924187Z",
     "shell.execute_reply": "2022-02-28T17:52:58.923673Z",
     "shell.execute_reply.started": "2022-02-28T17:47:49.137611Z"
    },
    "papermill": {
     "duration": 0.050695,
     "end_time": "2022-02-28T17:52:58.924321",
     "exception": false,
     "start_time": "2022-02-28T17:52:58.873626",
     "status": "completed"
    },
    "tags": []
   },
   "outputs": [],
   "source": [
    "X = X.append(X_test,ignore_index=True)\n",
    "Y = Y.append(Y_test,ignore_index=True)"
   ]
  },
  {
   "cell_type": "markdown",
   "id": "cb15c0c3",
   "metadata": {
    "papermill": {
     "duration": 0.02904,
     "end_time": "2022-02-28T17:52:58.982584",
     "exception": false,
     "start_time": "2022-02-28T17:52:58.953544",
     "status": "completed"
    },
    "tags": []
   },
   "source": [
    "Changing object dtype columns to str"
   ]
  },
  {
   "cell_type": "code",
   "execution_count": 6,
   "id": "48867ab3",
   "metadata": {
    "execution": {
     "iopub.execute_input": "2022-02-28T17:52:59.046200Z",
     "iopub.status.busy": "2022-02-28T17:52:59.043972Z",
     "iopub.status.idle": "2022-02-28T17:52:59.092678Z",
     "shell.execute_reply": "2022-02-28T17:52:59.093102Z",
     "shell.execute_reply.started": "2022-02-28T17:47:49.159574Z"
    },
    "papermill": {
     "duration": 0.081863,
     "end_time": "2022-02-28T17:52:59.093249",
     "exception": false,
     "start_time": "2022-02-28T17:52:59.011386",
     "status": "completed"
    },
    "tags": []
   },
   "outputs": [
    {
     "data": {
      "text/html": [
       "<div>\n",
       "<style scoped>\n",
       "    .dataframe tbody tr th:only-of-type {\n",
       "        vertical-align: middle;\n",
       "    }\n",
       "\n",
       "    .dataframe tbody tr th {\n",
       "        vertical-align: top;\n",
       "    }\n",
       "\n",
       "    .dataframe thead th {\n",
       "        text-align: right;\n",
       "    }\n",
       "</style>\n",
       "<table border=\"1\" class=\"dataframe\">\n",
       "  <thead>\n",
       "    <tr style=\"text-align: right;\">\n",
       "      <th></th>\n",
       "      <th>MSZoning</th>\n",
       "      <th>Street</th>\n",
       "      <th>Alley</th>\n",
       "      <th>LotShape</th>\n",
       "      <th>LandContour</th>\n",
       "      <th>Utilities</th>\n",
       "      <th>LotConfig</th>\n",
       "      <th>LandSlope</th>\n",
       "      <th>Neighborhood</th>\n",
       "      <th>Condition1</th>\n",
       "      <th>...</th>\n",
       "      <th>GarageType</th>\n",
       "      <th>GarageFinish</th>\n",
       "      <th>GarageQual</th>\n",
       "      <th>GarageCond</th>\n",
       "      <th>PavedDrive</th>\n",
       "      <th>PoolQC</th>\n",
       "      <th>Fence</th>\n",
       "      <th>MiscFeature</th>\n",
       "      <th>SaleType</th>\n",
       "      <th>SaleCondition</th>\n",
       "    </tr>\n",
       "  </thead>\n",
       "  <tbody>\n",
       "    <tr>\n",
       "      <th>0</th>\n",
       "      <td>RL</td>\n",
       "      <td>Pave</td>\n",
       "      <td>nan</td>\n",
       "      <td>Reg</td>\n",
       "      <td>Lvl</td>\n",
       "      <td>AllPub</td>\n",
       "      <td>Inside</td>\n",
       "      <td>Gtl</td>\n",
       "      <td>CollgCr</td>\n",
       "      <td>Norm</td>\n",
       "      <td>...</td>\n",
       "      <td>Attchd</td>\n",
       "      <td>RFn</td>\n",
       "      <td>TA</td>\n",
       "      <td>TA</td>\n",
       "      <td>Y</td>\n",
       "      <td>nan</td>\n",
       "      <td>nan</td>\n",
       "      <td>nan</td>\n",
       "      <td>WD</td>\n",
       "      <td>Normal</td>\n",
       "    </tr>\n",
       "    <tr>\n",
       "      <th>1</th>\n",
       "      <td>RL</td>\n",
       "      <td>Pave</td>\n",
       "      <td>nan</td>\n",
       "      <td>Reg</td>\n",
       "      <td>Lvl</td>\n",
       "      <td>AllPub</td>\n",
       "      <td>FR2</td>\n",
       "      <td>Gtl</td>\n",
       "      <td>Veenker</td>\n",
       "      <td>Feedr</td>\n",
       "      <td>...</td>\n",
       "      <td>Attchd</td>\n",
       "      <td>RFn</td>\n",
       "      <td>TA</td>\n",
       "      <td>TA</td>\n",
       "      <td>Y</td>\n",
       "      <td>nan</td>\n",
       "      <td>nan</td>\n",
       "      <td>nan</td>\n",
       "      <td>WD</td>\n",
       "      <td>Normal</td>\n",
       "    </tr>\n",
       "    <tr>\n",
       "      <th>2</th>\n",
       "      <td>RL</td>\n",
       "      <td>Pave</td>\n",
       "      <td>nan</td>\n",
       "      <td>IR1</td>\n",
       "      <td>Lvl</td>\n",
       "      <td>AllPub</td>\n",
       "      <td>Inside</td>\n",
       "      <td>Gtl</td>\n",
       "      <td>CollgCr</td>\n",
       "      <td>Norm</td>\n",
       "      <td>...</td>\n",
       "      <td>Attchd</td>\n",
       "      <td>RFn</td>\n",
       "      <td>TA</td>\n",
       "      <td>TA</td>\n",
       "      <td>Y</td>\n",
       "      <td>nan</td>\n",
       "      <td>nan</td>\n",
       "      <td>nan</td>\n",
       "      <td>WD</td>\n",
       "      <td>Normal</td>\n",
       "    </tr>\n",
       "    <tr>\n",
       "      <th>3</th>\n",
       "      <td>RL</td>\n",
       "      <td>Pave</td>\n",
       "      <td>nan</td>\n",
       "      <td>IR1</td>\n",
       "      <td>Lvl</td>\n",
       "      <td>AllPub</td>\n",
       "      <td>Corner</td>\n",
       "      <td>Gtl</td>\n",
       "      <td>Crawfor</td>\n",
       "      <td>Norm</td>\n",
       "      <td>...</td>\n",
       "      <td>Detchd</td>\n",
       "      <td>Unf</td>\n",
       "      <td>TA</td>\n",
       "      <td>TA</td>\n",
       "      <td>Y</td>\n",
       "      <td>nan</td>\n",
       "      <td>nan</td>\n",
       "      <td>nan</td>\n",
       "      <td>WD</td>\n",
       "      <td>Abnorml</td>\n",
       "    </tr>\n",
       "    <tr>\n",
       "      <th>4</th>\n",
       "      <td>RL</td>\n",
       "      <td>Pave</td>\n",
       "      <td>nan</td>\n",
       "      <td>IR1</td>\n",
       "      <td>Lvl</td>\n",
       "      <td>AllPub</td>\n",
       "      <td>FR2</td>\n",
       "      <td>Gtl</td>\n",
       "      <td>NoRidge</td>\n",
       "      <td>Norm</td>\n",
       "      <td>...</td>\n",
       "      <td>Attchd</td>\n",
       "      <td>RFn</td>\n",
       "      <td>TA</td>\n",
       "      <td>TA</td>\n",
       "      <td>Y</td>\n",
       "      <td>nan</td>\n",
       "      <td>nan</td>\n",
       "      <td>nan</td>\n",
       "      <td>WD</td>\n",
       "      <td>Normal</td>\n",
       "    </tr>\n",
       "    <tr>\n",
       "      <th>...</th>\n",
       "      <td>...</td>\n",
       "      <td>...</td>\n",
       "      <td>...</td>\n",
       "      <td>...</td>\n",
       "      <td>...</td>\n",
       "      <td>...</td>\n",
       "      <td>...</td>\n",
       "      <td>...</td>\n",
       "      <td>...</td>\n",
       "      <td>...</td>\n",
       "      <td>...</td>\n",
       "      <td>...</td>\n",
       "      <td>...</td>\n",
       "      <td>...</td>\n",
       "      <td>...</td>\n",
       "      <td>...</td>\n",
       "      <td>...</td>\n",
       "      <td>...</td>\n",
       "      <td>...</td>\n",
       "      <td>...</td>\n",
       "      <td>...</td>\n",
       "    </tr>\n",
       "    <tr>\n",
       "      <th>2914</th>\n",
       "      <td>RM</td>\n",
       "      <td>Pave</td>\n",
       "      <td>nan</td>\n",
       "      <td>Reg</td>\n",
       "      <td>Lvl</td>\n",
       "      <td>AllPub</td>\n",
       "      <td>Inside</td>\n",
       "      <td>Gtl</td>\n",
       "      <td>MeadowV</td>\n",
       "      <td>Norm</td>\n",
       "      <td>...</td>\n",
       "      <td>nan</td>\n",
       "      <td>nan</td>\n",
       "      <td>nan</td>\n",
       "      <td>nan</td>\n",
       "      <td>Y</td>\n",
       "      <td>nan</td>\n",
       "      <td>nan</td>\n",
       "      <td>nan</td>\n",
       "      <td>WD</td>\n",
       "      <td>Normal</td>\n",
       "    </tr>\n",
       "    <tr>\n",
       "      <th>2915</th>\n",
       "      <td>RM</td>\n",
       "      <td>Pave</td>\n",
       "      <td>nan</td>\n",
       "      <td>Reg</td>\n",
       "      <td>Lvl</td>\n",
       "      <td>AllPub</td>\n",
       "      <td>Inside</td>\n",
       "      <td>Gtl</td>\n",
       "      <td>MeadowV</td>\n",
       "      <td>Norm</td>\n",
       "      <td>...</td>\n",
       "      <td>CarPort</td>\n",
       "      <td>Unf</td>\n",
       "      <td>TA</td>\n",
       "      <td>TA</td>\n",
       "      <td>Y</td>\n",
       "      <td>nan</td>\n",
       "      <td>nan</td>\n",
       "      <td>nan</td>\n",
       "      <td>WD</td>\n",
       "      <td>Abnorml</td>\n",
       "    </tr>\n",
       "    <tr>\n",
       "      <th>2916</th>\n",
       "      <td>RL</td>\n",
       "      <td>Pave</td>\n",
       "      <td>nan</td>\n",
       "      <td>Reg</td>\n",
       "      <td>Lvl</td>\n",
       "      <td>AllPub</td>\n",
       "      <td>Inside</td>\n",
       "      <td>Gtl</td>\n",
       "      <td>Mitchel</td>\n",
       "      <td>Norm</td>\n",
       "      <td>...</td>\n",
       "      <td>Detchd</td>\n",
       "      <td>Unf</td>\n",
       "      <td>TA</td>\n",
       "      <td>TA</td>\n",
       "      <td>Y</td>\n",
       "      <td>nan</td>\n",
       "      <td>nan</td>\n",
       "      <td>nan</td>\n",
       "      <td>WD</td>\n",
       "      <td>Abnorml</td>\n",
       "    </tr>\n",
       "    <tr>\n",
       "      <th>2917</th>\n",
       "      <td>RL</td>\n",
       "      <td>Pave</td>\n",
       "      <td>nan</td>\n",
       "      <td>Reg</td>\n",
       "      <td>Lvl</td>\n",
       "      <td>AllPub</td>\n",
       "      <td>Inside</td>\n",
       "      <td>Gtl</td>\n",
       "      <td>Mitchel</td>\n",
       "      <td>Norm</td>\n",
       "      <td>...</td>\n",
       "      <td>nan</td>\n",
       "      <td>nan</td>\n",
       "      <td>nan</td>\n",
       "      <td>nan</td>\n",
       "      <td>Y</td>\n",
       "      <td>nan</td>\n",
       "      <td>MnPrv</td>\n",
       "      <td>Shed</td>\n",
       "      <td>WD</td>\n",
       "      <td>Normal</td>\n",
       "    </tr>\n",
       "    <tr>\n",
       "      <th>2918</th>\n",
       "      <td>RL</td>\n",
       "      <td>Pave</td>\n",
       "      <td>nan</td>\n",
       "      <td>Reg</td>\n",
       "      <td>Lvl</td>\n",
       "      <td>AllPub</td>\n",
       "      <td>Inside</td>\n",
       "      <td>Mod</td>\n",
       "      <td>Mitchel</td>\n",
       "      <td>Norm</td>\n",
       "      <td>...</td>\n",
       "      <td>Attchd</td>\n",
       "      <td>Fin</td>\n",
       "      <td>TA</td>\n",
       "      <td>TA</td>\n",
       "      <td>Y</td>\n",
       "      <td>nan</td>\n",
       "      <td>nan</td>\n",
       "      <td>nan</td>\n",
       "      <td>WD</td>\n",
       "      <td>Normal</td>\n",
       "    </tr>\n",
       "  </tbody>\n",
       "</table>\n",
       "<p>2919 rows × 43 columns</p>\n",
       "</div>"
      ],
      "text/plain": [
       "     MSZoning Street Alley LotShape LandContour Utilities LotConfig LandSlope  \\\n",
       "0          RL   Pave   nan      Reg         Lvl    AllPub    Inside       Gtl   \n",
       "1          RL   Pave   nan      Reg         Lvl    AllPub       FR2       Gtl   \n",
       "2          RL   Pave   nan      IR1         Lvl    AllPub    Inside       Gtl   \n",
       "3          RL   Pave   nan      IR1         Lvl    AllPub    Corner       Gtl   \n",
       "4          RL   Pave   nan      IR1         Lvl    AllPub       FR2       Gtl   \n",
       "...       ...    ...   ...      ...         ...       ...       ...       ...   \n",
       "2914       RM   Pave   nan      Reg         Lvl    AllPub    Inside       Gtl   \n",
       "2915       RM   Pave   nan      Reg         Lvl    AllPub    Inside       Gtl   \n",
       "2916       RL   Pave   nan      Reg         Lvl    AllPub    Inside       Gtl   \n",
       "2917       RL   Pave   nan      Reg         Lvl    AllPub    Inside       Gtl   \n",
       "2918       RL   Pave   nan      Reg         Lvl    AllPub    Inside       Mod   \n",
       "\n",
       "     Neighborhood Condition1  ... GarageType GarageFinish GarageQual  \\\n",
       "0         CollgCr       Norm  ...     Attchd          RFn         TA   \n",
       "1         Veenker      Feedr  ...     Attchd          RFn         TA   \n",
       "2         CollgCr       Norm  ...     Attchd          RFn         TA   \n",
       "3         Crawfor       Norm  ...     Detchd          Unf         TA   \n",
       "4         NoRidge       Norm  ...     Attchd          RFn         TA   \n",
       "...           ...        ...  ...        ...          ...        ...   \n",
       "2914      MeadowV       Norm  ...        nan          nan        nan   \n",
       "2915      MeadowV       Norm  ...    CarPort          Unf         TA   \n",
       "2916      Mitchel       Norm  ...     Detchd          Unf         TA   \n",
       "2917      Mitchel       Norm  ...        nan          nan        nan   \n",
       "2918      Mitchel       Norm  ...     Attchd          Fin         TA   \n",
       "\n",
       "     GarageCond PavedDrive PoolQC  Fence MiscFeature SaleType SaleCondition  \n",
       "0            TA          Y    nan    nan         nan       WD        Normal  \n",
       "1            TA          Y    nan    nan         nan       WD        Normal  \n",
       "2            TA          Y    nan    nan         nan       WD        Normal  \n",
       "3            TA          Y    nan    nan         nan       WD       Abnorml  \n",
       "4            TA          Y    nan    nan         nan       WD        Normal  \n",
       "...         ...        ...    ...    ...         ...      ...           ...  \n",
       "2914        nan          Y    nan    nan         nan       WD        Normal  \n",
       "2915         TA          Y    nan    nan         nan       WD       Abnorml  \n",
       "2916         TA          Y    nan    nan         nan       WD       Abnorml  \n",
       "2917        nan          Y    nan  MnPrv        Shed       WD        Normal  \n",
       "2918         TA          Y    nan    nan         nan       WD        Normal  \n",
       "\n",
       "[2919 rows x 43 columns]"
      ]
     },
     "execution_count": 6,
     "metadata": {},
     "output_type": "execute_result"
    }
   ],
   "source": [
    "from sklearn.preprocessing import LabelEncoder\n",
    "temp = X.select_dtypes(include = \"object\").columns\n",
    "temp = list(temp)\n",
    "X[temp].apply(lambda col: col.astype(str))"
   ]
  },
  {
   "cell_type": "markdown",
   "id": "0aee5621",
   "metadata": {
    "papermill": {
     "duration": 0.029659,
     "end_time": "2022-02-28T17:52:59.153033",
     "exception": false,
     "start_time": "2022-02-28T17:52:59.123374",
     "status": "completed"
    },
    "tags": []
   },
   "source": [
    "Label encoding "
   ]
  },
  {
   "cell_type": "code",
   "execution_count": 7,
   "id": "1263b7c9",
   "metadata": {
    "execution": {
     "iopub.execute_input": "2022-02-28T17:52:59.263568Z",
     "iopub.status.busy": "2022-02-28T17:52:59.262883Z",
     "iopub.status.idle": "2022-02-28T17:52:59.266489Z",
     "shell.execute_reply": "2022-02-28T17:52:59.266862Z",
     "shell.execute_reply.started": "2022-02-28T17:47:49.207334Z"
    },
    "papermill": {
     "duration": 0.083688,
     "end_time": "2022-02-28T17:52:59.267000",
     "exception": false,
     "start_time": "2022-02-28T17:52:59.183312",
     "status": "completed"
    },
    "tags": []
   },
   "outputs": [],
   "source": [
    "X_temp = X[temp].apply(lambda col: LabelEncoder().fit_transform(col.astype(str)), axis=0, result_type='expand')"
   ]
  },
  {
   "cell_type": "markdown",
   "id": "0948e671",
   "metadata": {
    "papermill": {
     "duration": 0.028911,
     "end_time": "2022-02-28T17:52:59.325135",
     "exception": false,
     "start_time": "2022-02-28T17:52:59.296224",
     "status": "completed"
    },
    "tags": []
   },
   "source": [
    "Appending the encoded columns in the final dataframe"
   ]
  },
  {
   "cell_type": "code",
   "execution_count": 8,
   "id": "00778b84",
   "metadata": {
    "execution": {
     "iopub.execute_input": "2022-02-28T17:52:59.390460Z",
     "iopub.status.busy": "2022-02-28T17:52:59.389852Z",
     "iopub.status.idle": "2022-02-28T17:52:59.392358Z",
     "shell.execute_reply": "2022-02-28T17:52:59.392725Z",
     "shell.execute_reply.started": "2022-02-28T17:47:49.259486Z"
    },
    "papermill": {
     "duration": 0.03854,
     "end_time": "2022-02-28T17:52:59.392855",
     "exception": false,
     "start_time": "2022-02-28T17:52:59.354315",
     "status": "completed"
    },
    "tags": []
   },
   "outputs": [],
   "source": [
    "X = X.drop(temp,axis=1)\n",
    "X = pd.concat([X,X_temp],axis=1)"
   ]
  },
  {
   "cell_type": "markdown",
   "id": "fcae5f61",
   "metadata": {
    "papermill": {
     "duration": 0.029986,
     "end_time": "2022-02-28T17:52:59.452382",
     "exception": false,
     "start_time": "2022-02-28T17:52:59.422396",
     "status": "completed"
    },
    "tags": []
   },
   "source": [
    "Replacing NAN "
   ]
  },
  {
   "cell_type": "code",
   "execution_count": 9,
   "id": "f735fda6",
   "metadata": {
    "execution": {
     "iopub.execute_input": "2022-02-28T17:52:59.515401Z",
     "iopub.status.busy": "2022-02-28T17:52:59.514537Z",
     "iopub.status.idle": "2022-02-28T17:52:59.537466Z",
     "shell.execute_reply": "2022-02-28T17:52:59.537864Z",
     "shell.execute_reply.started": "2022-02-28T17:48:15.391651Z"
    },
    "papermill": {
     "duration": 0.056396,
     "end_time": "2022-02-28T17:52:59.537988",
     "exception": false,
     "start_time": "2022-02-28T17:52:59.481592",
     "status": "completed"
    },
    "tags": []
   },
   "outputs": [
    {
     "data": {
      "text/html": [
       "<div>\n",
       "<style scoped>\n",
       "    .dataframe tbody tr th:only-of-type {\n",
       "        vertical-align: middle;\n",
       "    }\n",
       "\n",
       "    .dataframe tbody tr th {\n",
       "        vertical-align: top;\n",
       "    }\n",
       "\n",
       "    .dataframe thead th {\n",
       "        text-align: right;\n",
       "    }\n",
       "</style>\n",
       "<table border=\"1\" class=\"dataframe\">\n",
       "  <thead>\n",
       "    <tr style=\"text-align: right;\">\n",
       "      <th></th>\n",
       "      <th>Id</th>\n",
       "      <th>MSSubClass</th>\n",
       "      <th>LotFrontage</th>\n",
       "      <th>LotArea</th>\n",
       "      <th>OverallQual</th>\n",
       "      <th>OverallCond</th>\n",
       "      <th>YearBuilt</th>\n",
       "      <th>YearRemodAdd</th>\n",
       "      <th>MasVnrArea</th>\n",
       "      <th>BsmtFinSF1</th>\n",
       "      <th>...</th>\n",
       "      <th>GarageType</th>\n",
       "      <th>GarageFinish</th>\n",
       "      <th>GarageQual</th>\n",
       "      <th>GarageCond</th>\n",
       "      <th>PavedDrive</th>\n",
       "      <th>PoolQC</th>\n",
       "      <th>Fence</th>\n",
       "      <th>MiscFeature</th>\n",
       "      <th>SaleType</th>\n",
       "      <th>SaleCondition</th>\n",
       "    </tr>\n",
       "  </thead>\n",
       "  <tbody>\n",
       "    <tr>\n",
       "      <th>0</th>\n",
       "      <td>1</td>\n",
       "      <td>60</td>\n",
       "      <td>65.0</td>\n",
       "      <td>8450</td>\n",
       "      <td>7</td>\n",
       "      <td>5</td>\n",
       "      <td>2003</td>\n",
       "      <td>2003</td>\n",
       "      <td>196.0</td>\n",
       "      <td>706.0</td>\n",
       "      <td>...</td>\n",
       "      <td>1</td>\n",
       "      <td>1</td>\n",
       "      <td>4</td>\n",
       "      <td>4</td>\n",
       "      <td>2</td>\n",
       "      <td>3</td>\n",
       "      <td>4</td>\n",
       "      <td>4</td>\n",
       "      <td>8</td>\n",
       "      <td>4</td>\n",
       "    </tr>\n",
       "    <tr>\n",
       "      <th>1</th>\n",
       "      <td>2</td>\n",
       "      <td>20</td>\n",
       "      <td>80.0</td>\n",
       "      <td>9600</td>\n",
       "      <td>6</td>\n",
       "      <td>8</td>\n",
       "      <td>1976</td>\n",
       "      <td>1976</td>\n",
       "      <td>0.0</td>\n",
       "      <td>978.0</td>\n",
       "      <td>...</td>\n",
       "      <td>1</td>\n",
       "      <td>1</td>\n",
       "      <td>4</td>\n",
       "      <td>4</td>\n",
       "      <td>2</td>\n",
       "      <td>3</td>\n",
       "      <td>4</td>\n",
       "      <td>4</td>\n",
       "      <td>8</td>\n",
       "      <td>4</td>\n",
       "    </tr>\n",
       "    <tr>\n",
       "      <th>2</th>\n",
       "      <td>3</td>\n",
       "      <td>60</td>\n",
       "      <td>68.0</td>\n",
       "      <td>11250</td>\n",
       "      <td>7</td>\n",
       "      <td>5</td>\n",
       "      <td>2001</td>\n",
       "      <td>2002</td>\n",
       "      <td>162.0</td>\n",
       "      <td>486.0</td>\n",
       "      <td>...</td>\n",
       "      <td>1</td>\n",
       "      <td>1</td>\n",
       "      <td>4</td>\n",
       "      <td>4</td>\n",
       "      <td>2</td>\n",
       "      <td>3</td>\n",
       "      <td>4</td>\n",
       "      <td>4</td>\n",
       "      <td>8</td>\n",
       "      <td>4</td>\n",
       "    </tr>\n",
       "    <tr>\n",
       "      <th>3</th>\n",
       "      <td>4</td>\n",
       "      <td>70</td>\n",
       "      <td>60.0</td>\n",
       "      <td>9550</td>\n",
       "      <td>7</td>\n",
       "      <td>5</td>\n",
       "      <td>1915</td>\n",
       "      <td>1970</td>\n",
       "      <td>0.0</td>\n",
       "      <td>216.0</td>\n",
       "      <td>...</td>\n",
       "      <td>5</td>\n",
       "      <td>2</td>\n",
       "      <td>4</td>\n",
       "      <td>4</td>\n",
       "      <td>2</td>\n",
       "      <td>3</td>\n",
       "      <td>4</td>\n",
       "      <td>4</td>\n",
       "      <td>8</td>\n",
       "      <td>0</td>\n",
       "    </tr>\n",
       "    <tr>\n",
       "      <th>4</th>\n",
       "      <td>5</td>\n",
       "      <td>60</td>\n",
       "      <td>84.0</td>\n",
       "      <td>14260</td>\n",
       "      <td>8</td>\n",
       "      <td>5</td>\n",
       "      <td>2000</td>\n",
       "      <td>2000</td>\n",
       "      <td>350.0</td>\n",
       "      <td>655.0</td>\n",
       "      <td>...</td>\n",
       "      <td>1</td>\n",
       "      <td>1</td>\n",
       "      <td>4</td>\n",
       "      <td>4</td>\n",
       "      <td>2</td>\n",
       "      <td>3</td>\n",
       "      <td>4</td>\n",
       "      <td>4</td>\n",
       "      <td>8</td>\n",
       "      <td>4</td>\n",
       "    </tr>\n",
       "    <tr>\n",
       "      <th>...</th>\n",
       "      <td>...</td>\n",
       "      <td>...</td>\n",
       "      <td>...</td>\n",
       "      <td>...</td>\n",
       "      <td>...</td>\n",
       "      <td>...</td>\n",
       "      <td>...</td>\n",
       "      <td>...</td>\n",
       "      <td>...</td>\n",
       "      <td>...</td>\n",
       "      <td>...</td>\n",
       "      <td>...</td>\n",
       "      <td>...</td>\n",
       "      <td>...</td>\n",
       "      <td>...</td>\n",
       "      <td>...</td>\n",
       "      <td>...</td>\n",
       "      <td>...</td>\n",
       "      <td>...</td>\n",
       "      <td>...</td>\n",
       "      <td>...</td>\n",
       "    </tr>\n",
       "    <tr>\n",
       "      <th>2914</th>\n",
       "      <td>2915</td>\n",
       "      <td>160</td>\n",
       "      <td>21.0</td>\n",
       "      <td>1936</td>\n",
       "      <td>4</td>\n",
       "      <td>7</td>\n",
       "      <td>1970</td>\n",
       "      <td>1970</td>\n",
       "      <td>0.0</td>\n",
       "      <td>0.0</td>\n",
       "      <td>...</td>\n",
       "      <td>6</td>\n",
       "      <td>3</td>\n",
       "      <td>5</td>\n",
       "      <td>5</td>\n",
       "      <td>2</td>\n",
       "      <td>3</td>\n",
       "      <td>4</td>\n",
       "      <td>4</td>\n",
       "      <td>8</td>\n",
       "      <td>4</td>\n",
       "    </tr>\n",
       "    <tr>\n",
       "      <th>2915</th>\n",
       "      <td>2916</td>\n",
       "      <td>160</td>\n",
       "      <td>21.0</td>\n",
       "      <td>1894</td>\n",
       "      <td>4</td>\n",
       "      <td>5</td>\n",
       "      <td>1970</td>\n",
       "      <td>1970</td>\n",
       "      <td>0.0</td>\n",
       "      <td>252.0</td>\n",
       "      <td>...</td>\n",
       "      <td>4</td>\n",
       "      <td>2</td>\n",
       "      <td>4</td>\n",
       "      <td>4</td>\n",
       "      <td>2</td>\n",
       "      <td>3</td>\n",
       "      <td>4</td>\n",
       "      <td>4</td>\n",
       "      <td>8</td>\n",
       "      <td>0</td>\n",
       "    </tr>\n",
       "    <tr>\n",
       "      <th>2916</th>\n",
       "      <td>2917</td>\n",
       "      <td>20</td>\n",
       "      <td>160.0</td>\n",
       "      <td>20000</td>\n",
       "      <td>5</td>\n",
       "      <td>7</td>\n",
       "      <td>1960</td>\n",
       "      <td>1996</td>\n",
       "      <td>0.0</td>\n",
       "      <td>1224.0</td>\n",
       "      <td>...</td>\n",
       "      <td>5</td>\n",
       "      <td>2</td>\n",
       "      <td>4</td>\n",
       "      <td>4</td>\n",
       "      <td>2</td>\n",
       "      <td>3</td>\n",
       "      <td>4</td>\n",
       "      <td>4</td>\n",
       "      <td>8</td>\n",
       "      <td>0</td>\n",
       "    </tr>\n",
       "    <tr>\n",
       "      <th>2917</th>\n",
       "      <td>2918</td>\n",
       "      <td>85</td>\n",
       "      <td>62.0</td>\n",
       "      <td>10441</td>\n",
       "      <td>5</td>\n",
       "      <td>5</td>\n",
       "      <td>1992</td>\n",
       "      <td>1992</td>\n",
       "      <td>0.0</td>\n",
       "      <td>337.0</td>\n",
       "      <td>...</td>\n",
       "      <td>6</td>\n",
       "      <td>3</td>\n",
       "      <td>5</td>\n",
       "      <td>5</td>\n",
       "      <td>2</td>\n",
       "      <td>3</td>\n",
       "      <td>2</td>\n",
       "      <td>2</td>\n",
       "      <td>8</td>\n",
       "      <td>4</td>\n",
       "    </tr>\n",
       "    <tr>\n",
       "      <th>2918</th>\n",
       "      <td>2919</td>\n",
       "      <td>60</td>\n",
       "      <td>74.0</td>\n",
       "      <td>9627</td>\n",
       "      <td>7</td>\n",
       "      <td>5</td>\n",
       "      <td>1993</td>\n",
       "      <td>1994</td>\n",
       "      <td>94.0</td>\n",
       "      <td>758.0</td>\n",
       "      <td>...</td>\n",
       "      <td>1</td>\n",
       "      <td>0</td>\n",
       "      <td>4</td>\n",
       "      <td>4</td>\n",
       "      <td>2</td>\n",
       "      <td>3</td>\n",
       "      <td>4</td>\n",
       "      <td>4</td>\n",
       "      <td>8</td>\n",
       "      <td>4</td>\n",
       "    </tr>\n",
       "  </tbody>\n",
       "</table>\n",
       "<p>2919 rows × 80 columns</p>\n",
       "</div>"
      ],
      "text/plain": [
       "        Id  MSSubClass  LotFrontage  LotArea  OverallQual  OverallCond  \\\n",
       "0        1          60         65.0     8450            7            5   \n",
       "1        2          20         80.0     9600            6            8   \n",
       "2        3          60         68.0    11250            7            5   \n",
       "3        4          70         60.0     9550            7            5   \n",
       "4        5          60         84.0    14260            8            5   \n",
       "...    ...         ...          ...      ...          ...          ...   \n",
       "2914  2915         160         21.0     1936            4            7   \n",
       "2915  2916         160         21.0     1894            4            5   \n",
       "2916  2917          20        160.0    20000            5            7   \n",
       "2917  2918          85         62.0    10441            5            5   \n",
       "2918  2919          60         74.0     9627            7            5   \n",
       "\n",
       "      YearBuilt  YearRemodAdd  MasVnrArea  BsmtFinSF1  ...  GarageType  \\\n",
       "0          2003          2003       196.0       706.0  ...           1   \n",
       "1          1976          1976         0.0       978.0  ...           1   \n",
       "2          2001          2002       162.0       486.0  ...           1   \n",
       "3          1915          1970         0.0       216.0  ...           5   \n",
       "4          2000          2000       350.0       655.0  ...           1   \n",
       "...         ...           ...         ...         ...  ...         ...   \n",
       "2914       1970          1970         0.0         0.0  ...           6   \n",
       "2915       1970          1970         0.0       252.0  ...           4   \n",
       "2916       1960          1996         0.0      1224.0  ...           5   \n",
       "2917       1992          1992         0.0       337.0  ...           6   \n",
       "2918       1993          1994        94.0       758.0  ...           1   \n",
       "\n",
       "      GarageFinish  GarageQual  GarageCond  PavedDrive  PoolQC  Fence  \\\n",
       "0                1           4           4           2       3      4   \n",
       "1                1           4           4           2       3      4   \n",
       "2                1           4           4           2       3      4   \n",
       "3                2           4           4           2       3      4   \n",
       "4                1           4           4           2       3      4   \n",
       "...            ...         ...         ...         ...     ...    ...   \n",
       "2914             3           5           5           2       3      4   \n",
       "2915             2           4           4           2       3      4   \n",
       "2916             2           4           4           2       3      4   \n",
       "2917             3           5           5           2       3      2   \n",
       "2918             0           4           4           2       3      4   \n",
       "\n",
       "      MiscFeature  SaleType  SaleCondition  \n",
       "0               4         8              4  \n",
       "1               4         8              4  \n",
       "2               4         8              4  \n",
       "3               4         8              0  \n",
       "4               4         8              4  \n",
       "...           ...       ...            ...  \n",
       "2914            4         8              4  \n",
       "2915            4         8              0  \n",
       "2916            4         8              0  \n",
       "2917            2         8              4  \n",
       "2918            4         8              4  \n",
       "\n",
       "[2919 rows x 80 columns]"
      ]
     },
     "execution_count": 9,
     "metadata": {},
     "output_type": "execute_result"
    }
   ],
   "source": [
    "X = X.replace(np.nan,-1)\n",
    "X"
   ]
  },
  {
   "cell_type": "markdown",
   "id": "143c9982",
   "metadata": {
    "papermill": {
     "duration": 0.030119,
     "end_time": "2022-02-28T17:52:59.598185",
     "exception": false,
     "start_time": "2022-02-28T17:52:59.568066",
     "status": "completed"
    },
    "tags": []
   },
   "source": [
    "Importance of individual features"
   ]
  },
  {
   "cell_type": "code",
   "execution_count": 10,
   "id": "b43fd004",
   "metadata": {
    "execution": {
     "iopub.execute_input": "2022-02-28T17:52:59.667402Z",
     "iopub.status.busy": "2022-02-28T17:52:59.666836Z",
     "iopub.status.idle": "2022-02-28T17:53:21.717963Z",
     "shell.execute_reply": "2022-02-28T17:53:21.718565Z",
     "shell.execute_reply.started": "2022-02-28T17:47:49.302736Z"
    },
    "papermill": {
     "duration": 22.089766,
     "end_time": "2022-02-28T17:53:21.718758",
     "exception": false,
     "start_time": "2022-02-28T17:52:59.628992",
     "status": "completed"
    },
    "tags": []
   },
   "outputs": [
    {
     "name": "stdout",
     "output_type": "stream",
     "text": [
      "Id 0.23050500414885766\n",
      "MSSubClass 0.0021217001303460176\n",
      "MSZoning 0.005331840965293391\n",
      "LotFrontage 0.026309133099211204\n",
      "LotArea 0.2017844705063855\n",
      "Street 0.00434387124316815\n",
      "Alley 0.020831960394418387\n",
      "LotShape 0.008285040139524675\n",
      "LandContour 0.006039965921171982\n",
      "Utilities 0.022731093786926903\n",
      "LotConfig 0.0007336426897764593\n",
      "LandSlope 0.005008444410808378\n",
      "Neighborhood 0.046064416572633084\n",
      "Condition1 0.020486892301432694\n",
      "Condition2 0.03552128336441434\n",
      "BldgType 9.722862457558552e-05\n",
      "HouseStyle 0.20779195680838777\n",
      "OverallQual 0.000828420942033733\n",
      "OverallCond 0.00042353151122553775\n",
      "YearBuilt 0.0021723130690931443\n",
      "YearRemodAdd 0.0010326874408524839\n",
      "RoofStyle 0.01812495149331406\n",
      "RoofMatl 0.000785225409283194\n",
      "Exterior1st 0.006265021986029345\n",
      "Exterior2nd 0.0020270924318819294\n",
      "MasVnrType 0.0061645803895605\n",
      "MasVnrArea 0.02446880240625505\n",
      "ExterQual 0.017225204512853375\n",
      "ExterCond 0.0044216854690626965\n",
      "Foundation 0.0041280540580884515\n",
      "BsmtQual 0.0006939723490398816\n",
      "BsmtCond 0.0007542988854322058\n",
      "BsmtExposure 0.0014574631478845616\n",
      "BsmtFinType1 0.0003243843048002375\n",
      "BsmtFinSF1 0.00010518568094173784\n",
      "BsmtFinType2 0.004482845154687933\n",
      "BsmtFinSF2 0.0014929296835019983\n",
      "BsmtUnfSF 0.00183084057746704\n",
      "TotalBsmtSF 6.788390300192036e-06\n",
      "Heating 0.00035118689481364963\n",
      "HeatingQC 0.000971194230688952\n",
      "CentralAir 0.0012985706767727945\n",
      "Electrical 1.908205618466111e-06\n",
      "1stFlrSF 0.000800201165652961\n",
      "2ndFlrSF 0.0005907155108427411\n",
      "LowQualFinSF 0.0067882835828243305\n",
      "GrLivArea 0.00052728058140727\n",
      "BsmtFullBath 0.00023570538729290584\n",
      "BsmtHalfBath 0.0006072114765907069\n",
      "FullBath 0.000710369469798749\n",
      "HalfBath 0.0008387817427973626\n",
      "BedroomAbvGr 0.00023452636917803535\n",
      "KitchenAbvGr 0.0017084475217319514\n",
      "KitchenQual 0.001665763749026605\n",
      "TotRmsAbvGrd 0.00106619302835245\n",
      "Functional 0.003169746467911683\n",
      "Fireplaces 0.0004327874999906883\n",
      "FireplaceQu 0.0006036287855160838\n",
      "GarageType 0.008238082462706782\n",
      "GarageYrBlt 0.00032570237133288245\n",
      "GarageFinish 0.0020484247782286877\n",
      "GarageCars 0.0016915691093650229\n",
      "GarageArea 0.00030623740165540534\n",
      "GarageQual 0.00011981865160434434\n",
      "GarageCond 0.0006650471721365519\n",
      "PavedDrive 0.0037337910134633543\n",
      "WoodDeckSF 0.00020040439546746544\n",
      "OpenPorchSF 0.003254116063199133\n",
      "EnclosedPorch 0.0006650071612091896\n",
      "3SsnPorch 0.0017714726797587866\n",
      "ScreenPorch 0.0032365282302927625\n",
      "PoolArea 0.004105571581448475\n",
      "PoolQC 0.00019030415618719593\n",
      "Fence 0.00015166919290508023\n",
      "MiscFeature 0.0003364209805697504\n",
      "MiscVal 0.00036199549951934336\n",
      "MoSold 0.00037768196813421455\n",
      "YrSold 3.242105103834162e-05\n",
      "SaleType 0.0008639987785037472\n",
      "SaleCondition 0.0015170085535434208\n"
     ]
    },
    {
     "name": "stderr",
     "output_type": "stream",
     "text": [
      "/opt/conda/lib/python3.7/site-packages/ipykernel_launcher.py:12: FutureWarning: In a future version of pandas all arguments of DataFrame.drop except for the argument 'labels' will be keyword-only\n",
      "  if sys.path[0] == '':\n"
     ]
    }
   ],
   "source": [
    "from sklearn.ensemble import RandomForestRegressor\n",
    "rnd_clf = RandomForestRegressor(n_estimators=500)\n",
    "rnd_clf.fit(X,Y)\n",
    "importance_dict = {}\n",
    "for j in X.columns:\n",
    "    importance_dict[j]=0\n",
    "for name,score in zip(columns,rnd_clf.feature_importances_):\n",
    "    importance_dict[name]=importance_dict[name]+score\n",
    "    print(name,score)\n",
    "for k in X.columns:\n",
    "    if(importance_dict[k]<0.0008):\n",
    "        X=X.drop([k],1)"
   ]
  },
  {
   "cell_type": "markdown",
   "id": "68d09fe1",
   "metadata": {
    "papermill": {
     "duration": 0.031092,
     "end_time": "2022-02-28T17:53:21.783476",
     "exception": false,
     "start_time": "2022-02-28T17:53:21.752384",
     "status": "completed"
    },
    "tags": []
   },
   "source": [
    "Plotting the feature importances"
   ]
  },
  {
   "cell_type": "code",
   "execution_count": 11,
   "id": "98bfa9a6",
   "metadata": {
    "execution": {
     "iopub.execute_input": "2022-02-28T17:53:21.851699Z",
     "iopub.status.busy": "2022-02-28T17:53:21.850908Z",
     "iopub.status.idle": "2022-02-28T17:53:23.325301Z",
     "shell.execute_reply": "2022-02-28T17:53:23.324812Z",
     "shell.execute_reply.started": "2022-02-28T17:48:13.386432Z"
    },
    "papermill": {
     "duration": 1.510108,
     "end_time": "2022-02-28T17:53:23.325435",
     "exception": false,
     "start_time": "2022-02-28T17:53:21.815327",
     "status": "completed"
    },
    "tags": []
   },
   "outputs": [
    {
     "data": {
      "text/plain": [
       "<BarContainer object of 80 artists>"
      ]
     },
     "execution_count": 11,
     "metadata": {},
     "output_type": "execute_result"
    },
    {
     "data": {
      "image/png": "[encoded data removed]",
      "text/plain": [
       "<Figure size 1440x1440 with 1 Axes>"
      ]
     },
     "metadata": {
      "needs_background": "light"
     },
     "output_type": "display_data"
    }
   ],
   "source": [
    "sorted_idx = rnd_clf.feature_importances_.argsort()\n",
    "import matplotlib.pyplot as plt\n",
    "plt.figure(figsize=(20, 20))\n",
    "plt.barh(columns[sorted_idx],rnd_clf.feature_importances_[sorted_idx])\n"
   ]
  },
  {
   "cell_type": "markdown",
   "id": "caeed8fc",
   "metadata": {
    "papermill": {
     "duration": 0.033258,
     "end_time": "2022-02-28T17:53:23.393794",
     "exception": false,
     "start_time": "2022-02-28T17:53:23.360536",
     "status": "completed"
    },
    "tags": []
   },
   "source": [
    "training testing split"
   ]
  },
  {
   "cell_type": "code",
   "execution_count": 12,
   "id": "36a9cef4",
   "metadata": {
    "execution": {
     "iopub.execute_input": "2022-02-28T17:53:23.466024Z",
     "iopub.status.busy": "2022-02-28T17:53:23.465276Z",
     "iopub.status.idle": "2022-02-28T17:53:23.470408Z",
     "shell.execute_reply": "2022-02-28T17:53:23.469980Z",
     "shell.execute_reply.started": "2022-02-28T17:48:14.773418Z"
    },
    "papermill": {
     "duration": 0.042935,
     "end_time": "2022-02-28T17:53:23.470523",
     "exception": false,
     "start_time": "2022-02-28T17:53:23.427588",
     "status": "completed"
    },
    "tags": []
   },
   "outputs": [],
   "source": [
    "from sklearn.model_selection import train_test_split\n",
    "X,X_test,Y,Y_test = train_test_split(X,Y,test_size=0.2,random_state=0)"
   ]
  },
  {
   "cell_type": "code",
   "execution_count": 13,
   "id": "d92182c3",
   "metadata": {
    "execution": {
     "iopub.execute_input": "2022-02-28T17:53:23.542219Z",
     "iopub.status.busy": "2022-02-28T17:53:23.541582Z",
     "iopub.status.idle": "2022-02-28T17:53:23.544233Z",
     "shell.execute_reply": "2022-02-28T17:53:23.544618Z",
     "shell.execute_reply.started": "2022-02-28T17:48:14.784984Z"
    },
    "papermill": {
     "duration": 0.040616,
     "end_time": "2022-02-28T17:53:23.544737",
     "exception": false,
     "start_time": "2022-02-28T17:53:23.504121",
     "status": "completed"
    },
    "tags": []
   },
   "outputs": [
    {
     "data": {
      "text/plain": [
       "49"
      ]
     },
     "execution_count": 13,
     "metadata": {},
     "output_type": "execute_result"
    }
   ],
   "source": [
    "columns=X.columns\n",
    "len(columns)"
   ]
  },
  {
   "cell_type": "markdown",
   "id": "656552e3",
   "metadata": {
    "papermill": {
     "duration": 0.0338,
     "end_time": "2022-02-28T17:53:23.612064",
     "exception": false,
     "start_time": "2022-02-28T17:53:23.578264",
     "status": "completed"
    },
    "tags": []
   },
   "source": [
    "Scaling the input features"
   ]
  },
  {
   "cell_type": "code",
   "execution_count": 14,
   "id": "a3cca843",
   "metadata": {
    "execution": {
     "iopub.execute_input": "2022-02-28T17:53:27.084838Z",
     "iopub.status.busy": "2022-02-28T17:53:27.083218Z",
     "iopub.status.idle": "2022-02-28T17:53:35.985399Z",
     "shell.execute_reply": "2022-02-28T17:53:35.985807Z",
     "shell.execute_reply.started": "2022-02-28T17:48:14.793916Z"
    },
    "papermill": {
     "duration": 12.34018,
     "end_time": "2022-02-28T17:53:35.985976",
     "exception": false,
     "start_time": "2022-02-28T17:53:23.645796",
     "status": "completed"
    },
    "tags": []
   },
   "outputs": [],
   "source": [
    "from cuml.preprocessing import StandardScaler\n",
    "for i in columns :\n",
    "    scaler = StandardScaler()\n",
    "    X[i] = scaler.fit_transform(X[i].values.reshape(-1,1))\n",
    "    X_test[i] = scaler.transform(X_test[i].values.reshape(-1,1))"
   ]
  },
  {
   "cell_type": "markdown",
   "id": "8f3680e4",
   "metadata": {
    "papermill": {
     "duration": 0.033715,
     "end_time": "2022-02-28T17:53:36.054920",
     "exception": false,
     "start_time": "2022-02-28T17:53:36.021205",
     "status": "completed"
    },
    "tags": []
   },
   "source": [
    "dropping the id column"
   ]
  },
  {
   "cell_type": "code",
   "execution_count": 15,
   "id": "33164131",
   "metadata": {
    "execution": {
     "iopub.execute_input": "2022-02-28T17:53:36.146009Z",
     "iopub.status.busy": "2022-02-28T17:53:36.145252Z",
     "iopub.status.idle": "2022-02-28T17:53:36.147677Z",
     "shell.execute_reply": "2022-02-28T17:53:36.147281Z",
     "shell.execute_reply.started": "2022-02-28T17:48:15.110846Z"
    },
    "papermill": {
     "duration": 0.046095,
     "end_time": "2022-02-28T17:53:36.147784",
     "exception": false,
     "start_time": "2022-02-28T17:53:36.101689",
     "status": "completed"
    },
    "tags": []
   },
   "outputs": [],
   "source": [
    "X = X.iloc[:,1:]\n",
    "X_test = X_test.iloc[:,1:]"
   ]
  },
  {
   "cell_type": "markdown",
   "id": "b87b4e5a",
   "metadata": {
    "papermill": {
     "duration": 0.033484,
     "end_time": "2022-02-28T17:53:36.214400",
     "exception": false,
     "start_time": "2022-02-28T17:53:36.180916",
     "status": "completed"
    },
    "tags": []
   },
   "source": [
    "Scaling the output features"
   ]
  },
  {
   "cell_type": "code",
   "execution_count": 16,
   "id": "0bddd1ba",
   "metadata": {
    "execution": {
     "iopub.execute_input": "2022-02-28T17:53:36.286824Z",
     "iopub.status.busy": "2022-02-28T17:53:36.285941Z",
     "iopub.status.idle": "2022-02-28T17:53:36.294429Z",
     "shell.execute_reply": "2022-02-28T17:53:36.293995Z",
     "shell.execute_reply.started": "2022-02-28T17:48:15.121152Z"
    },
    "papermill": {
     "duration": 0.046484,
     "end_time": "2022-02-28T17:53:36.294539",
     "exception": false,
     "start_time": "2022-02-28T17:53:36.248055",
     "status": "completed"
    },
    "tags": []
   },
   "outputs": [],
   "source": [
    "scaler = StandardScaler()\n",
    "Y = scaler.fit_transform(Y.values.reshape(-1,1))\n",
    "Y_test = scaler.transform(Y_test.values.reshape(-1,1))"
   ]
  },
  {
   "cell_type": "markdown",
   "id": "3d02c18e",
   "metadata": {
    "papermill": {
     "duration": 0.033308,
     "end_time": "2022-02-28T17:53:36.361007",
     "exception": false,
     "start_time": "2022-02-28T17:53:36.327699",
     "status": "completed"
    },
    "tags": []
   },
   "source": [
    "Linear Regression"
   ]
  },
  {
   "cell_type": "code",
   "execution_count": 17,
   "id": "415c792c",
   "metadata": {
    "execution": {
     "iopub.execute_input": "2022-02-28T17:53:36.435773Z",
     "iopub.status.busy": "2022-02-28T17:53:36.435218Z",
     "iopub.status.idle": "2022-02-28T17:53:39.636612Z",
     "shell.execute_reply": "2022-02-28T17:53:39.636175Z",
     "shell.execute_reply.started": "2022-02-28T17:48:15.135422Z"
    },
    "papermill": {
     "duration": 3.242115,
     "end_time": "2022-02-28T17:53:39.636739",
     "exception": false,
     "start_time": "2022-02-28T17:53:36.394624",
     "status": "completed"
    },
    "tags": []
   },
   "outputs": [
    {
     "name": "stdout",
     "output_type": "stream",
     "text": [
      "1.1997201312146657 0.8099259298792619 0.44709999791045396\n"
     ]
    }
   ],
   "source": [
    "from cuml import LinearRegression\n",
    "from cuml.linear_model import LinearRegression\n",
    "X_new = cd.DataFrame(X)\n",
    "Y_new = cd.DataFrame(Y)\n",
    "lr = LinearRegression(fit_intercept = False,algorithm = \"svd\")\n",
    "reg = lr.fit(X_new,Y_new)\n",
    "preds = lr.predict(X_test)\n",
    "from cuml.metrics import mean_squared_error\n",
    "from cuml.metrics import mean_absolute_error\n",
    "from cuml.metrics import r2_score\n",
    "MSE = mean_squared_error(Y_test,preds)\n",
    "MAE = mean_absolute_error(Y_test,preds)\n",
    "R2 = r2_score(Y_test,preds)\n",
    "print(MSE,MAE,R2)"
   ]
  },
  {
   "cell_type": "markdown",
   "id": "f876f54d",
   "metadata": {
    "papermill": {
     "duration": 0.033718,
     "end_time": "2022-02-28T17:53:39.704597",
     "exception": false,
     "start_time": "2022-02-28T17:53:39.670879",
     "status": "completed"
    },
    "tags": []
   },
   "source": [
    "Logistic Regression"
   ]
  },
  {
   "cell_type": "code",
   "execution_count": 18,
   "id": "5bc5609a",
   "metadata": {
    "execution": {
     "iopub.execute_input": "2022-02-28T17:53:39.778239Z",
     "iopub.status.busy": "2022-02-28T17:53:39.777699Z",
     "iopub.status.idle": "2022-02-28T17:53:40.770144Z",
     "shell.execute_reply": "2022-02-28T17:53:40.770739Z",
     "shell.execute_reply.started": "2022-02-28T17:48:15.186964Z"
    },
    "papermill": {
     "duration": 1.032641,
     "end_time": "2022-02-28T17:53:40.770935",
     "exception": false,
     "start_time": "2022-02-28T17:53:39.738294",
     "status": "completed"
    },
    "tags": []
   },
   "outputs": [
    {
     "name": "stdout",
     "output_type": "stream",
     "text": [
      "[W] [17:53:40.755811] L-BFGS stopped, because the line search failed to advance (step delta = 0.000000)\n",
      "0.7575460208875798 0.5640392590625964 -0.0010559335664261926\n"
     ]
    }
   ],
   "source": [
    "from cuml.linear_model import LogisticRegression\n",
    "reg = LogisticRegression()\n",
    "reg.fit(X,Y)\n",
    "preds = reg.predict(X_test)\n",
    "from cuml.metrics import mean_squared_error\n",
    "from cuml.metrics import mean_absolute_error\n",
    "from cuml.metrics import r2_score\n",
    "MSE = mean_squared_error(Y_test,preds)\n",
    "MAE = mean_absolute_error(Y_test,preds)\n",
    "R2 = r2_score(Y_test,preds)\n",
    "print(MSE,MAE,R2)"
   ]
  },
  {
   "cell_type": "markdown",
   "id": "3f63390a",
   "metadata": {
    "papermill": {
     "duration": 0.035302,
     "end_time": "2022-02-28T17:53:40.842163",
     "exception": false,
     "start_time": "2022-02-28T17:53:40.806861",
     "status": "completed"
    },
    "tags": []
   },
   "source": [
    "Ridge Regression"
   ]
  },
  {
   "cell_type": "code",
   "execution_count": 19,
   "id": "0633bc71",
   "metadata": {
    "execution": {
     "iopub.execute_input": "2022-02-28T17:53:40.917704Z",
     "iopub.status.busy": "2022-02-28T17:53:40.916859Z",
     "iopub.status.idle": "2022-02-28T17:53:40.951910Z",
     "shell.execute_reply": "2022-02-28T17:53:40.951508Z",
     "shell.execute_reply.started": "2022-02-28T17:48:15.256538Z"
    },
    "papermill": {
     "duration": 0.075616,
     "end_time": "2022-02-28T17:53:40.952024",
     "exception": false,
     "start_time": "2022-02-28T17:53:40.876408",
     "status": "completed"
    },
    "tags": []
   },
   "outputs": [
    {
     "name": "stdout",
     "output_type": "stream",
     "text": [
      "1.199644791249092 0.8098964888063515 0.4471120429872376\n"
     ]
    }
   ],
   "source": [
    "from cuml import Ridge\n",
    "from cuml.linear_model import Ridge\n",
    "ridge = Ridge(alpha=0.5,fit_intercept = True, normalize = False,solver = \"svd\")\n",
    "result_ridge = ridge.fit(X, Y)\n",
    "preds = result_ridge.predict(X_test)\n",
    "from cuml.metrics import mean_squared_error\n",
    "from cuml.metrics import mean_absolute_error\n",
    "from cuml.metrics import r2_score\n",
    "MSE = mean_squared_error(Y_test,preds)\n",
    "MAE = mean_absolute_error(Y_test,preds)\n",
    "R2 = r2_score(Y_test,preds)\n",
    "print(MSE,MAE,R2)"
   ]
  },
  {
   "cell_type": "markdown",
   "id": "79d65075",
   "metadata": {
    "papermill": {
     "duration": 0.035207,
     "end_time": "2022-02-28T17:53:41.021697",
     "exception": false,
     "start_time": "2022-02-28T17:53:40.986490",
     "status": "completed"
    },
    "tags": []
   },
   "source": [
    "Lasso Regression"
   ]
  },
  {
   "cell_type": "code",
   "execution_count": 20,
   "id": "6140166e",
   "metadata": {
    "execution": {
     "iopub.execute_input": "2022-02-28T17:53:41.113887Z",
     "iopub.status.busy": "2022-02-28T17:53:41.113262Z",
     "iopub.status.idle": "2022-02-28T17:53:41.157061Z",
     "shell.execute_reply": "2022-02-28T17:53:41.157477Z",
     "shell.execute_reply.started": "2022-02-28T17:48:15.283123Z"
    },
    "papermill": {
     "duration": 0.099423,
     "end_time": "2022-02-28T17:53:41.157671",
     "exception": false,
     "start_time": "2022-02-28T17:53:41.058248",
     "status": "completed"
    },
    "tags": []
   },
   "outputs": [
    {
     "name": "stdout",
     "output_type": "stream",
     "text": [
      "1.1017489296234497 0.7713677205398128 0.43967447603948295\n"
     ]
    }
   ],
   "source": [
    "from cuml.linear_model import Lasso\n",
    "ls = Lasso(alpha = 0.05)\n",
    "result_lasso = ls.fit(X, Y)\n",
    "preds = result_lasso.predict(X_test)\n",
    "from cuml.metrics import mean_squared_error\n",
    "from cuml.metrics import mean_absolute_error\n",
    "from cuml.metrics import r2_score\n",
    "MSE = mean_squared_error(Y_test,preds)\n",
    "MAE = mean_absolute_error(Y_test,preds)\n",
    "R2 = r2_score(Y_test,preds)\n",
    "print(MSE,MAE,R2)"
   ]
  },
  {
   "cell_type": "markdown",
   "id": "54f19fbe",
   "metadata": {
    "papermill": {
     "duration": 0.038782,
     "end_time": "2022-02-28T17:53:41.236187",
     "exception": false,
     "start_time": "2022-02-28T17:53:41.197405",
     "status": "completed"
    },
    "tags": []
   },
   "source": [
    "ElasticNet Regression"
   ]
  },
  {
   "cell_type": "code",
   "execution_count": 21,
   "id": "9f436332",
   "metadata": {
    "execution": {
     "iopub.execute_input": "2022-02-28T17:53:41.317189Z",
     "iopub.status.busy": "2022-02-28T17:53:41.315864Z",
     "iopub.status.idle": "2022-02-28T17:53:41.366884Z",
     "shell.execute_reply": "2022-02-28T17:53:41.367331Z",
     "shell.execute_reply.started": "2022-02-28T17:48:15.335063Z"
    },
    "papermill": {
     "duration": 0.093161,
     "end_time": "2022-02-28T17:53:41.367525",
     "exception": false,
     "start_time": "2022-02-28T17:53:41.274364",
     "status": "completed"
    },
    "tags": []
   },
   "outputs": [
    {
     "name": "stdout",
     "output_type": "stream",
     "text": [
      "1.0797917168457671 0.7604665939968752 0.44274312088527334\n"
     ]
    }
   ],
   "source": [
    "from cuml.linear_model import ElasticNet\n",
    "enet = ElasticNet(alpha = 0.3, l1_ratio=0.1)\n",
    "result_enet = enet.fit(X, Y)\n",
    "preds = result_enet.predict(X_test)\n",
    "from cuml.metrics import mean_squared_error\n",
    "from cuml.metrics import mean_absolute_error\n",
    "from cuml.metrics import r2_score\n",
    "MSE = mean_squared_error(Y_test,preds)\n",
    "MAE = mean_absolute_error(Y_test,preds)\n",
    "R2 = r2_score(Y_test,preds)\n",
    "print(MSE,MAE,R2)"
   ]
  },
  {
   "cell_type": "code",
   "execution_count": null,
   "id": "f8f7b2e1",
   "metadata": {
    "papermill": {
     "duration": 0.03971,
     "end_time": "2022-02-28T17:53:41.447332",
     "exception": false,
     "start_time": "2022-02-28T17:53:41.407622",
     "status": "completed"
    },
    "tags": []
   },
   "outputs": [],
   "source": []
  }
 ],
 "metadata": {
  "kernelspec": {
   "display_name": "Python 3",
   "language": "python",
   "name": "python3"
  },
  "language_info": {
   "codemirror_mode": {
    "name": "ipython",
    "version": 3
   },
   "file_extension": ".py",
   "mimetype": "text/x-python",
   "name": "python",
   "nbconvert_exporter": "python",
   "pygments_lexer": "ipython3",
   "version": "3.7.12"
  },
  "papermill": {
   "default_parameters": {},
   "duration": 56.363458,
   "end_time": "2022-02-28T17:53:42.896754",
   "environment_variables": {},
   "exception": null,
   "input_path": "__notebook__.ipynb",
   "output_path": "__notebook__.ipynb",
   "parameters": {},
   "start_time": "2022-02-28T17:52:46.533296",
   "version": "2.3.3"
  }
 },
 "nbformat": 4,
 "nbformat_minor": 5
}

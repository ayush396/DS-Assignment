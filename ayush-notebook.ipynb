{
 "cells": [
  {
   "cell_type": "code",
   "execution_count": 1,
   "id": "6f1a412d",
   "metadata": {
    "_cell_guid": "b1076dfc-b9ad-4769-8c92-a6c4dae69d19",
    "_uuid": "8f2839f25d086af736a60e9eeb907d3b93b6e0e5",
    "execution": {
     "iopub.execute_input": "2022-02-28T18:32:01.496713Z",
     "iopub.status.busy": "2022-02-28T18:32:01.495214Z",
     "iopub.status.idle": "2022-02-28T18:32:01.506666Z",
     "shell.execute_reply": "2022-02-28T18:32:01.507119Z",
     "shell.execute_reply.started": "2022-02-28T18:18:43.953584Z"
    },
    "papermill": {
     "duration": 0.051684,
     "end_time": "2022-02-28T18:32:01.507405",
     "exception": false,
     "start_time": "2022-02-28T18:32:01.455721",
     "status": "completed"
    },
    "tags": []
   },
   "outputs": [
    {
     "name": "stdout",
     "output_type": "stream",
     "text": [
      "/kaggle/input/house-prices-advanced-regression-techniques/sample_submission.csv\n",
      "/kaggle/input/house-prices-advanced-regression-techniques/data_description.txt\n",
      "/kaggle/input/house-prices-advanced-regression-techniques/train.csv\n",
      "/kaggle/input/house-prices-advanced-regression-techniques/test.csv\n"
     ]
    }
   ],
   "source": [
    "# Input data files are available in the read-only \"../input/\" directory\n",
    "# For example, running this (by clicking run or pressing Shift+Enter) will list all files under the input directory\n",
    "\n",
    "import os\n",
    "for dirname, _, filenames in os.walk('/kaggle/input'):\n",
    "    for filename in filenames:\n",
    "        print(os.path.join(dirname, filename))\n",
    "\n",
    "# You can write up to 20GB to the current directory (/kaggle/working/) that gets preserved as output when you create a version using \"Save & Run All\" \n",
    "# You can also write temporary files to /kaggle/temp/, but they won't be saved outside of the current session"
   ]
  },
  {
   "cell_type": "code",
   "execution_count": 2,
   "id": "86fc8cf7",
   "metadata": {
    "execution": {
     "iopub.execute_input": "2022-02-28T18:32:01.582358Z",
     "iopub.status.busy": "2022-02-28T18:32:01.581677Z",
     "iopub.status.idle": "2022-02-28T18:32:05.137561Z",
     "shell.execute_reply": "2022-02-28T18:32:05.136652Z",
     "shell.execute_reply.started": "2022-02-28T18:21:25.029433Z"
    },
    "papermill": {
     "duration": 3.593778,
     "end_time": "2022-02-28T18:32:05.137710",
     "exception": false,
     "start_time": "2022-02-28T18:32:01.543932",
     "status": "completed"
    },
    "tags": []
   },
   "outputs": [],
   "source": [
    "import cudf as pd\n",
    "import cupy as np\n",
    "from sklearn.model_selection import cross_val_score\n",
    "import numpy"
   ]
  },
  {
   "cell_type": "markdown",
   "id": "a990064c",
   "metadata": {
    "papermill": {
     "duration": 0.034135,
     "end_time": "2022-02-28T18:32:05.208410",
     "exception": false,
     "start_time": "2022-02-28T18:32:05.174275",
     "status": "completed"
    },
    "tags": []
   },
   "source": [
    "## Importing the data"
   ]
  },
  {
   "cell_type": "code",
   "execution_count": 3,
   "id": "813a91ed",
   "metadata": {
    "execution": {
     "iopub.execute_input": "2022-02-28T18:32:05.281604Z",
     "iopub.status.busy": "2022-02-28T18:32:05.281059Z",
     "iopub.status.idle": "2022-02-28T18:32:07.705743Z",
     "shell.execute_reply": "2022-02-28T18:32:07.706173Z",
     "shell.execute_reply.started": "2022-02-28T14:06:18.854382Z"
    },
    "papermill": {
     "duration": 2.463606,
     "end_time": "2022-02-28T18:32:07.706320",
     "exception": false,
     "start_time": "2022-02-28T18:32:05.242714",
     "status": "completed"
    },
    "tags": []
   },
   "outputs": [
    {
     "data": {
      "text/html": [
       "<div>\n",
       "<style scoped>\n",
       "    .dataframe tbody tr th:only-of-type {\n",
       "        vertical-align: middle;\n",
       "    }\n",
       "\n",
       "    .dataframe tbody tr th {\n",
       "        vertical-align: top;\n",
       "    }\n",
       "\n",
       "    .dataframe thead th {\n",
       "        text-align: right;\n",
       "    }\n",
       "</style>\n",
       "<table border=\"1\" class=\"dataframe\">\n",
       "  <thead>\n",
       "    <tr style=\"text-align: right;\">\n",
       "      <th></th>\n",
       "      <th>Id</th>\n",
       "      <th>MSSubClass</th>\n",
       "      <th>MSZoning</th>\n",
       "      <th>LotFrontage</th>\n",
       "      <th>LotArea</th>\n",
       "      <th>Street</th>\n",
       "      <th>Alley</th>\n",
       "      <th>LotShape</th>\n",
       "      <th>LandContour</th>\n",
       "      <th>Utilities</th>\n",
       "      <th>...</th>\n",
       "      <th>PoolArea</th>\n",
       "      <th>PoolQC</th>\n",
       "      <th>Fence</th>\n",
       "      <th>MiscFeature</th>\n",
       "      <th>MiscVal</th>\n",
       "      <th>MoSold</th>\n",
       "      <th>YrSold</th>\n",
       "      <th>SaleType</th>\n",
       "      <th>SaleCondition</th>\n",
       "      <th>SalePrice</th>\n",
       "    </tr>\n",
       "  </thead>\n",
       "  <tbody>\n",
       "    <tr>\n",
       "      <th>0</th>\n",
       "      <td>1</td>\n",
       "      <td>60</td>\n",
       "      <td>RL</td>\n",
       "      <td>65.0</td>\n",
       "      <td>8450</td>\n",
       "      <td>Pave</td>\n",
       "      <td>&lt;NA&gt;</td>\n",
       "      <td>Reg</td>\n",
       "      <td>Lvl</td>\n",
       "      <td>AllPub</td>\n",
       "      <td>...</td>\n",
       "      <td>0</td>\n",
       "      <td>&lt;NA&gt;</td>\n",
       "      <td>&lt;NA&gt;</td>\n",
       "      <td>&lt;NA&gt;</td>\n",
       "      <td>0</td>\n",
       "      <td>2</td>\n",
       "      <td>2008</td>\n",
       "      <td>WD</td>\n",
       "      <td>Normal</td>\n",
       "      <td>208500</td>\n",
       "    </tr>\n",
       "    <tr>\n",
       "      <th>1</th>\n",
       "      <td>2</td>\n",
       "      <td>20</td>\n",
       "      <td>RL</td>\n",
       "      <td>80.0</td>\n",
       "      <td>9600</td>\n",
       "      <td>Pave</td>\n",
       "      <td>&lt;NA&gt;</td>\n",
       "      <td>Reg</td>\n",
       "      <td>Lvl</td>\n",
       "      <td>AllPub</td>\n",
       "      <td>...</td>\n",
       "      <td>0</td>\n",
       "      <td>&lt;NA&gt;</td>\n",
       "      <td>&lt;NA&gt;</td>\n",
       "      <td>&lt;NA&gt;</td>\n",
       "      <td>0</td>\n",
       "      <td>5</td>\n",
       "      <td>2007</td>\n",
       "      <td>WD</td>\n",
       "      <td>Normal</td>\n",
       "      <td>181500</td>\n",
       "    </tr>\n",
       "    <tr>\n",
       "      <th>2</th>\n",
       "      <td>3</td>\n",
       "      <td>60</td>\n",
       "      <td>RL</td>\n",
       "      <td>68.0</td>\n",
       "      <td>11250</td>\n",
       "      <td>Pave</td>\n",
       "      <td>&lt;NA&gt;</td>\n",
       "      <td>IR1</td>\n",
       "      <td>Lvl</td>\n",
       "      <td>AllPub</td>\n",
       "      <td>...</td>\n",
       "      <td>0</td>\n",
       "      <td>&lt;NA&gt;</td>\n",
       "      <td>&lt;NA&gt;</td>\n",
       "      <td>&lt;NA&gt;</td>\n",
       "      <td>0</td>\n",
       "      <td>9</td>\n",
       "      <td>2008</td>\n",
       "      <td>WD</td>\n",
       "      <td>Normal</td>\n",
       "      <td>223500</td>\n",
       "    </tr>\n",
       "    <tr>\n",
       "      <th>3</th>\n",
       "      <td>4</td>\n",
       "      <td>70</td>\n",
       "      <td>RL</td>\n",
       "      <td>60.0</td>\n",
       "      <td>9550</td>\n",
       "      <td>Pave</td>\n",
       "      <td>&lt;NA&gt;</td>\n",
       "      <td>IR1</td>\n",
       "      <td>Lvl</td>\n",
       "      <td>AllPub</td>\n",
       "      <td>...</td>\n",
       "      <td>0</td>\n",
       "      <td>&lt;NA&gt;</td>\n",
       "      <td>&lt;NA&gt;</td>\n",
       "      <td>&lt;NA&gt;</td>\n",
       "      <td>0</td>\n",
       "      <td>2</td>\n",
       "      <td>2006</td>\n",
       "      <td>WD</td>\n",
       "      <td>Abnorml</td>\n",
       "      <td>140000</td>\n",
       "    </tr>\n",
       "    <tr>\n",
       "      <th>4</th>\n",
       "      <td>5</td>\n",
       "      <td>60</td>\n",
       "      <td>RL</td>\n",
       "      <td>84.0</td>\n",
       "      <td>14260</td>\n",
       "      <td>Pave</td>\n",
       "      <td>&lt;NA&gt;</td>\n",
       "      <td>IR1</td>\n",
       "      <td>Lvl</td>\n",
       "      <td>AllPub</td>\n",
       "      <td>...</td>\n",
       "      <td>0</td>\n",
       "      <td>&lt;NA&gt;</td>\n",
       "      <td>&lt;NA&gt;</td>\n",
       "      <td>&lt;NA&gt;</td>\n",
       "      <td>0</td>\n",
       "      <td>12</td>\n",
       "      <td>2008</td>\n",
       "      <td>WD</td>\n",
       "      <td>Normal</td>\n",
       "      <td>250000</td>\n",
       "    </tr>\n",
       "  </tbody>\n",
       "</table>\n",
       "<p>5 rows × 81 columns</p>\n",
       "</div>"
      ],
      "text/plain": [
       "   Id  MSSubClass MSZoning  LotFrontage  LotArea Street Alley LotShape  \\\n",
       "0   1          60       RL         65.0     8450   Pave  <NA>      Reg   \n",
       "1   2          20       RL         80.0     9600   Pave  <NA>      Reg   \n",
       "2   3          60       RL         68.0    11250   Pave  <NA>      IR1   \n",
       "3   4          70       RL         60.0     9550   Pave  <NA>      IR1   \n",
       "4   5          60       RL         84.0    14260   Pave  <NA>      IR1   \n",
       "\n",
       "  LandContour Utilities  ... PoolArea  PoolQC Fence MiscFeature MiscVal  \\\n",
       "0         Lvl    AllPub  ...        0    <NA>  <NA>        <NA>       0   \n",
       "1         Lvl    AllPub  ...        0    <NA>  <NA>        <NA>       0   \n",
       "2         Lvl    AllPub  ...        0    <NA>  <NA>        <NA>       0   \n",
       "3         Lvl    AllPub  ...        0    <NA>  <NA>        <NA>       0   \n",
       "4         Lvl    AllPub  ...        0    <NA>  <NA>        <NA>       0   \n",
       "\n",
       "   MoSold  YrSold  SaleType SaleCondition SalePrice  \n",
       "0       2    2008        WD        Normal    208500  \n",
       "1       5    2007        WD        Normal    181500  \n",
       "2       9    2008        WD        Normal    223500  \n",
       "3       2    2006        WD       Abnorml    140000  \n",
       "4      12    2008        WD        Normal    250000  \n",
       "\n",
       "[5 rows x 81 columns]"
      ]
     },
     "execution_count": 3,
     "metadata": {},
     "output_type": "execute_result"
    }
   ],
   "source": [
    "train_df = pd.read_csv('/kaggle/input/house-prices-advanced-regression-techniques/train.csv')\n",
    "test_df = pd.read_csv('/kaggle/input/house-prices-advanced-regression-techniques/test.csv')\n",
    "train_df.head(5)"
   ]
  },
  {
   "cell_type": "code",
   "execution_count": 4,
   "id": "a5764323",
   "metadata": {
    "execution": {
     "iopub.execute_input": "2022-02-28T18:32:07.830993Z",
     "iopub.status.busy": "2022-02-28T18:32:07.829558Z",
     "iopub.status.idle": "2022-02-28T18:32:07.833294Z",
     "shell.execute_reply": "2022-02-28T18:32:07.830269Z",
     "shell.execute_reply.started": "2022-02-28T14:06:19.251832Z"
    },
    "papermill": {
     "duration": 0.078087,
     "end_time": "2022-02-28T18:32:07.833470",
     "exception": false,
     "start_time": "2022-02-28T18:32:07.755383",
     "status": "completed"
    },
    "tags": []
   },
   "outputs": [
    {
     "data": {
      "text/plain": [
       "81"
      ]
     },
     "execution_count": 4,
     "metadata": {},
     "output_type": "execute_result"
    }
   ],
   "source": [
    "len(train_df.columns)"
   ]
  },
  {
   "cell_type": "markdown",
   "id": "81c783fe",
   "metadata": {
    "papermill": {
     "duration": 0.05595,
     "end_time": "2022-02-28T18:32:07.943546",
     "exception": false,
     "start_time": "2022-02-28T18:32:07.887596",
     "status": "completed"
    },
    "tags": []
   },
   "source": [
    "## Data Cleaning"
   ]
  },
  {
   "cell_type": "code",
   "execution_count": 5,
   "id": "82fd824a",
   "metadata": {
    "execution": {
     "iopub.execute_input": "2022-02-28T18:32:08.063832Z",
     "iopub.status.busy": "2022-02-28T18:32:08.062945Z",
     "iopub.status.idle": "2022-02-28T18:32:08.066481Z",
     "shell.execute_reply": "2022-02-28T18:32:08.064545Z",
     "shell.execute_reply.started": "2022-02-28T14:06:19.260119Z"
    },
    "papermill": {
     "duration": 0.065488,
     "end_time": "2022-02-28T18:32:08.066640",
     "exception": false,
     "start_time": "2022-02-28T18:32:08.001152",
     "status": "completed"
    },
    "tags": []
   },
   "outputs": [
    {
     "data": {
      "text/plain": [
       "(1460, 81)"
      ]
     },
     "execution_count": 5,
     "metadata": {},
     "output_type": "execute_result"
    }
   ],
   "source": [
    "train_df.shape"
   ]
  },
  {
   "cell_type": "code",
   "execution_count": 6,
   "id": "d7f373dd",
   "metadata": {
    "execution": {
     "iopub.execute_input": "2022-02-28T18:32:08.185780Z",
     "iopub.status.busy": "2022-02-28T18:32:08.184996Z",
     "iopub.status.idle": "2022-02-28T18:32:08.264144Z",
     "shell.execute_reply": "2022-02-28T18:32:08.265042Z",
     "shell.execute_reply.started": "2022-02-28T14:06:19.270868Z"
    },
    "papermill": {
     "duration": 0.142646,
     "end_time": "2022-02-28T18:32:08.265254",
     "exception": false,
     "start_time": "2022-02-28T18:32:08.122608",
     "status": "completed"
    },
    "tags": []
   },
   "outputs": [
    {
     "name": "stdout",
     "output_type": "stream",
     "text": [
      "<class 'cudf.core.dataframe.DataFrame'>\n",
      "RangeIndex: 1460 entries, 0 to 1459\n",
      "Data columns (total 81 columns):\n",
      " #   Column         Non-Null Count  Dtype\n",
      "---  ------         --------------  -----\n",
      " 0   Id             1460 non-null   int64\n",
      " 1   MSSubClass     1460 non-null   int64\n",
      " 2   MSZoning       1460 non-null   object\n",
      " 3   LotFrontage    1201 non-null   float64\n",
      " 4   LotArea        1460 non-null   int64\n",
      " 5   Street         1460 non-null   object\n",
      " 6   Alley          91 non-null     object\n",
      " 7   LotShape       1460 non-null   object\n",
      " 8   LandContour    1460 non-null   object\n",
      " 9   Utilities      1460 non-null   object\n",
      " 10  LotConfig      1460 non-null   object\n",
      " 11  LandSlope      1460 non-null   object\n",
      " 12  Neighborhood   1460 non-null   object\n",
      " 13  Condition1     1460 non-null   object\n",
      " 14  Condition2     1460 non-null   object\n",
      " 15  BldgType       1460 non-null   object\n",
      " 16  HouseStyle     1460 non-null   object\n",
      " 17  OverallQual    1460 non-null   int64\n",
      " 18  OverallCond    1460 non-null   int64\n",
      " 19  YearBuilt      1460 non-null   int64\n",
      " 20  YearRemodAdd   1460 non-null   int64\n",
      " 21  RoofStyle      1460 non-null   object\n",
      " 22  RoofMatl       1460 non-null   object\n",
      " 23  Exterior1st    1460 non-null   object\n",
      " 24  Exterior2nd    1460 non-null   object\n",
      " 25  MasVnrType     1452 non-null   object\n",
      " 26  MasVnrArea     1452 non-null   float64\n",
      " 27  ExterQual      1460 non-null   object\n",
      " 28  ExterCond      1460 non-null   object\n",
      " 29  Foundation     1460 non-null   object\n",
      " 30  BsmtQual       1423 non-null   object\n",
      " 31  BsmtCond       1423 non-null   object\n",
      " 32  BsmtExposure   1422 non-null   object\n",
      " 33  BsmtFinType1   1423 non-null   object\n",
      " 34  BsmtFinSF1     1460 non-null   int64\n",
      " 35  BsmtFinType2   1422 non-null   object\n",
      " 36  BsmtFinSF2     1460 non-null   int64\n",
      " 37  BsmtUnfSF      1460 non-null   int64\n",
      " 38  TotalBsmtSF    1460 non-null   int64\n",
      " 39  Heating        1460 non-null   object\n",
      " 40  HeatingQC      1460 non-null   object\n",
      " 41  CentralAir     1460 non-null   object\n",
      " 42  Electrical     1459 non-null   object\n",
      " 43  1stFlrSF       1460 non-null   int64\n",
      " 44  2ndFlrSF       1460 non-null   int64\n",
      " 45  LowQualFinSF   1460 non-null   int64\n",
      " 46  GrLivArea      1460 non-null   int64\n",
      " 47  BsmtFullBath   1460 non-null   int64\n",
      " 48  BsmtHalfBath   1460 non-null   int64\n",
      " 49  FullBath       1460 non-null   int64\n",
      " 50  HalfBath       1460 non-null   int64\n",
      " 51  BedroomAbvGr   1460 non-null   int64\n",
      " 52  KitchenAbvGr   1460 non-null   int64\n",
      " 53  KitchenQual    1460 non-null   object\n",
      " 54  TotRmsAbvGrd   1460 non-null   int64\n",
      " 55  Functional     1460 non-null   object\n",
      " 56  Fireplaces     1460 non-null   int64\n",
      " 57  FireplaceQu    770 non-null    object\n",
      " 58  GarageType     1379 non-null   object\n",
      " 59  GarageYrBlt    1379 non-null   float64\n",
      " 60  GarageFinish   1379 non-null   object\n",
      " 61  GarageCars     1460 non-null   int64\n",
      " 62  GarageArea     1460 non-null   int64\n",
      " 63  GarageQual     1379 non-null   object\n",
      " 64  GarageCond     1379 non-null   object\n",
      " 65  PavedDrive     1460 non-null   object\n",
      " 66  WoodDeckSF     1460 non-null   int64\n",
      " 67  OpenPorchSF    1460 non-null   int64\n",
      " 68  EnclosedPorch  1460 non-null   int64\n",
      " 69  3SsnPorch      1460 non-null   int64\n",
      " 70  ScreenPorch    1460 non-null   int64\n",
      " 71  PoolArea       1460 non-null   int64\n",
      " 72  PoolQC         7 non-null      object\n",
      " 73  Fence          281 non-null    object\n",
      " 74  MiscFeature    54 non-null     object\n",
      " 75  MiscVal        1460 non-null   int64\n",
      " 76  MoSold         1460 non-null   int64\n",
      " 77  YrSold         1460 non-null   int64\n",
      " 78  SaleType       1460 non-null   object\n",
      " 79  SaleCondition  1460 non-null   object\n",
      " 80  SalePrice      1460 non-null   int64\n",
      "dtypes: float64(3), int64(35), object(43)\n",
      "memory usage: 888.7+ KB\n"
     ]
    }
   ],
   "source": [
    "train_df.info()"
   ]
  },
  {
   "cell_type": "markdown",
   "id": "05aa7707",
   "metadata": {
    "papermill": {
     "duration": 0.058333,
     "end_time": "2022-02-28T18:32:08.391189",
     "exception": false,
     "start_time": "2022-02-28T18:32:08.332856",
     "status": "completed"
    },
    "tags": []
   },
   "source": [
    "## Filling Missing Values"
   ]
  },
  {
   "cell_type": "code",
   "execution_count": 7,
   "id": "bf9a957f",
   "metadata": {
    "execution": {
     "iopub.execute_input": "2022-02-28T18:32:08.518695Z",
     "iopub.status.busy": "2022-02-28T18:32:08.517913Z",
     "iopub.status.idle": "2022-02-28T18:32:08.533360Z",
     "shell.execute_reply": "2022-02-28T18:32:08.534338Z",
     "shell.execute_reply.started": "2022-02-28T14:06:19.364364Z"
    },
    "papermill": {
     "duration": 0.084424,
     "end_time": "2022-02-28T18:32:08.534534",
     "exception": false,
     "start_time": "2022-02-28T18:32:08.450110",
     "status": "completed"
    },
    "tags": []
   },
   "outputs": [],
   "source": [
    "train_df['MasVnrArea'].fillna(train_df['MasVnrArea'].median(), inplace=True)\n",
    "train_df['BsmtFinType1'].fillna('Unknown', inplace=True)\n",
    "train_df['BsmtFinType2'].fillna('Unknown', inplace=True)"
   ]
  },
  {
   "cell_type": "code",
   "execution_count": 8,
   "id": "336b1b9f",
   "metadata": {
    "execution": {
     "iopub.execute_input": "2022-02-28T18:32:08.664690Z",
     "iopub.status.busy": "2022-02-28T18:32:08.663936Z",
     "iopub.status.idle": "2022-02-28T18:32:08.719916Z",
     "shell.execute_reply": "2022-02-28T18:32:08.720515Z",
     "shell.execute_reply.started": "2022-02-28T14:06:19.384248Z"
    },
    "papermill": {
     "duration": 0.127175,
     "end_time": "2022-02-28T18:32:08.720706",
     "exception": false,
     "start_time": "2022-02-28T18:32:08.593531",
     "status": "completed"
    },
    "tags": []
   },
   "outputs": [
    {
     "name": "stdout",
     "output_type": "stream",
     "text": [
      "<class 'cudf.core.dataframe.DataFrame'>\n",
      "RangeIndex: 1460 entries, 0 to 1459\n",
      "Data columns (total 81 columns):\n",
      " #   Column         Non-Null Count  Dtype\n",
      "---  ------         --------------  -----\n",
      " 0   Id             1460 non-null   int64\n",
      " 1   MSSubClass     1460 non-null   int64\n",
      " 2   MSZoning       1460 non-null   object\n",
      " 3   LotFrontage    1201 non-null   float64\n",
      " 4   LotArea        1460 non-null   int64\n",
      " 5   Street         1460 non-null   object\n",
      " 6   Alley          91 non-null     object\n",
      " 7   LotShape       1460 non-null   object\n",
      " 8   LandContour    1460 non-null   object\n",
      " 9   Utilities      1460 non-null   object\n",
      " 10  LotConfig      1460 non-null   object\n",
      " 11  LandSlope      1460 non-null   object\n",
      " 12  Neighborhood   1460 non-null   object\n",
      " 13  Condition1     1460 non-null   object\n",
      " 14  Condition2     1460 non-null   object\n",
      " 15  BldgType       1460 non-null   object\n",
      " 16  HouseStyle     1460 non-null   object\n",
      " 17  OverallQual    1460 non-null   int64\n",
      " 18  OverallCond    1460 non-null   int64\n",
      " 19  YearBuilt      1460 non-null   int64\n",
      " 20  YearRemodAdd   1460 non-null   int64\n",
      " 21  RoofStyle      1460 non-null   object\n",
      " 22  RoofMatl       1460 non-null   object\n",
      " 23  Exterior1st    1460 non-null   object\n",
      " 24  Exterior2nd    1460 non-null   object\n",
      " 25  MasVnrType     1452 non-null   object\n",
      " 26  MasVnrArea     1460 non-null   float64\n",
      " 27  ExterQual      1460 non-null   object\n",
      " 28  ExterCond      1460 non-null   object\n",
      " 29  Foundation     1460 non-null   object\n",
      " 30  BsmtQual       1423 non-null   object\n",
      " 31  BsmtCond       1423 non-null   object\n",
      " 32  BsmtExposure   1422 non-null   object\n",
      " 33  BsmtFinType1   1460 non-null   object\n",
      " 34  BsmtFinSF1     1460 non-null   int64\n",
      " 35  BsmtFinType2   1460 non-null   object\n",
      " 36  BsmtFinSF2     1460 non-null   int64\n",
      " 37  BsmtUnfSF      1460 non-null   int64\n",
      " 38  TotalBsmtSF    1460 non-null   int64\n",
      " 39  Heating        1460 non-null   object\n",
      " 40  HeatingQC      1460 non-null   object\n",
      " 41  CentralAir     1460 non-null   object\n",
      " 42  Electrical     1459 non-null   object\n",
      " 43  1stFlrSF       1460 non-null   int64\n",
      " 44  2ndFlrSF       1460 non-null   int64\n",
      " 45  LowQualFinSF   1460 non-null   int64\n",
      " 46  GrLivArea      1460 non-null   int64\n",
      " 47  BsmtFullBath   1460 non-null   int64\n",
      " 48  BsmtHalfBath   1460 non-null   int64\n",
      " 49  FullBath       1460 non-null   int64\n",
      " 50  HalfBath       1460 non-null   int64\n",
      " 51  BedroomAbvGr   1460 non-null   int64\n",
      " 52  KitchenAbvGr   1460 non-null   int64\n",
      " 53  KitchenQual    1460 non-null   object\n",
      " 54  TotRmsAbvGrd   1460 non-null   int64\n",
      " 55  Functional     1460 non-null   object\n",
      " 56  Fireplaces     1460 non-null   int64\n",
      " 57  FireplaceQu    770 non-null    object\n",
      " 58  GarageType     1379 non-null   object\n",
      " 59  GarageYrBlt    1379 non-null   float64\n",
      " 60  GarageFinish   1379 non-null   object\n",
      " 61  GarageCars     1460 non-null   int64\n",
      " 62  GarageArea     1460 non-null   int64\n",
      " 63  GarageQual     1379 non-null   object\n",
      " 64  GarageCond     1379 non-null   object\n",
      " 65  PavedDrive     1460 non-null   object\n",
      " 66  WoodDeckSF     1460 non-null   int64\n",
      " 67  OpenPorchSF    1460 non-null   int64\n",
      " 68  EnclosedPorch  1460 non-null   int64\n",
      " 69  3SsnPorch      1460 non-null   int64\n",
      " 70  ScreenPorch    1460 non-null   int64\n",
      " 71  PoolArea       1460 non-null   int64\n",
      " 72  PoolQC         7 non-null      object\n",
      " 73  Fence          281 non-null    object\n",
      " 74  MiscFeature    54 non-null     object\n",
      " 75  MiscVal        1460 non-null   int64\n",
      " 76  MoSold         1460 non-null   int64\n",
      " 77  YrSold         1460 non-null   int64\n",
      " 78  SaleType       1460 non-null   object\n",
      " 79  SaleCondition  1460 non-null   object\n",
      " 80  SalePrice      1460 non-null   int64\n",
      "dtypes: float64(3), int64(35), object(43)\n",
      "memory usage: 888.5+ KB\n"
     ]
    }
   ],
   "source": [
    "train_df.info()"
   ]
  },
  {
   "cell_type": "code",
   "execution_count": 9,
   "id": "9d0fe5a8",
   "metadata": {
    "execution": {
     "iopub.execute_input": "2022-02-28T18:32:08.850952Z",
     "iopub.status.busy": "2022-02-28T18:32:08.850039Z",
     "iopub.status.idle": "2022-02-28T18:32:08.853651Z",
     "shell.execute_reply": "2022-02-28T18:32:08.851691Z",
     "shell.execute_reply.started": "2022-02-28T14:06:19.456031Z"
    },
    "papermill": {
     "duration": 0.07327,
     "end_time": "2022-02-28T18:32:08.853800",
     "exception": false,
     "start_time": "2022-02-28T18:32:08.780530",
     "status": "completed"
    },
    "tags": []
   },
   "outputs": [
    {
     "data": {
      "text/plain": [
       "(1459, 80)"
      ]
     },
     "execution_count": 9,
     "metadata": {},
     "output_type": "execute_result"
    }
   ],
   "source": [
    "test_df.shape"
   ]
  },
  {
   "cell_type": "code",
   "execution_count": 10,
   "id": "1e6df070",
   "metadata": {
    "execution": {
     "iopub.execute_input": "2022-02-28T18:32:08.960935Z",
     "iopub.status.busy": "2022-02-28T18:32:08.960051Z",
     "iopub.status.idle": "2022-02-28T18:32:09.013281Z",
     "shell.execute_reply": "2022-02-28T18:32:09.013742Z",
     "shell.execute_reply.started": "2022-02-28T14:06:19.463771Z"
    },
    "papermill": {
     "duration": 0.101562,
     "end_time": "2022-02-28T18:32:09.013897",
     "exception": false,
     "start_time": "2022-02-28T18:32:08.912335",
     "status": "completed"
    },
    "tags": []
   },
   "outputs": [
    {
     "name": "stdout",
     "output_type": "stream",
     "text": [
      "<class 'cudf.core.dataframe.DataFrame'>\n",
      "RangeIndex: 1459 entries, 0 to 1458\n",
      "Data columns (total 80 columns):\n",
      " #   Column         Non-Null Count  Dtype\n",
      "---  ------         --------------  -----\n",
      " 0   Id             1459 non-null   int64\n",
      " 1   MSSubClass     1459 non-null   int64\n",
      " 2   MSZoning       1455 non-null   object\n",
      " 3   LotFrontage    1232 non-null   float64\n",
      " 4   LotArea        1459 non-null   int64\n",
      " 5   Street         1459 non-null   object\n",
      " 6   Alley          107 non-null    object\n",
      " 7   LotShape       1459 non-null   object\n",
      " 8   LandContour    1459 non-null   object\n",
      " 9   Utilities      1457 non-null   object\n",
      " 10  LotConfig      1459 non-null   object\n",
      " 11  LandSlope      1459 non-null   object\n",
      " 12  Neighborhood   1459 non-null   object\n",
      " 13  Condition1     1459 non-null   object\n",
      " 14  Condition2     1459 non-null   object\n",
      " 15  BldgType       1459 non-null   object\n",
      " 16  HouseStyle     1459 non-null   object\n",
      " 17  OverallQual    1459 non-null   int64\n",
      " 18  OverallCond    1459 non-null   int64\n",
      " 19  YearBuilt      1459 non-null   int64\n",
      " 20  YearRemodAdd   1459 non-null   int64\n",
      " 21  RoofStyle      1459 non-null   object\n",
      " 22  RoofMatl       1459 non-null   object\n",
      " 23  Exterior1st    1458 non-null   object\n",
      " 24  Exterior2nd    1458 non-null   object\n",
      " 25  MasVnrType     1443 non-null   object\n",
      " 26  MasVnrArea     1444 non-null   float64\n",
      " 27  ExterQual      1459 non-null   object\n",
      " 28  ExterCond      1459 non-null   object\n",
      " 29  Foundation     1459 non-null   object\n",
      " 30  BsmtQual       1415 non-null   object\n",
      " 31  BsmtCond       1414 non-null   object\n",
      " 32  BsmtExposure   1415 non-null   object\n",
      " 33  BsmtFinType1   1417 non-null   object\n",
      " 34  BsmtFinSF1     1458 non-null   float64\n",
      " 35  BsmtFinType2   1417 non-null   object\n",
      " 36  BsmtFinSF2     1458 non-null   float64\n",
      " 37  BsmtUnfSF      1458 non-null   float64\n",
      " 38  TotalBsmtSF    1458 non-null   float64\n",
      " 39  Heating        1459 non-null   object\n",
      " 40  HeatingQC      1459 non-null   object\n",
      " 41  CentralAir     1459 non-null   object\n",
      " 42  Electrical     1459 non-null   object\n",
      " 43  1stFlrSF       1459 non-null   int64\n",
      " 44  2ndFlrSF       1459 non-null   int64\n",
      " 45  LowQualFinSF   1459 non-null   int64\n",
      " 46  GrLivArea      1459 non-null   int64\n",
      " 47  BsmtFullBath   1457 non-null   float64\n",
      " 48  BsmtHalfBath   1457 non-null   float64\n",
      " 49  FullBath       1459 non-null   int64\n",
      " 50  HalfBath       1459 non-null   int64\n",
      " 51  BedroomAbvGr   1459 non-null   int64\n",
      " 52  KitchenAbvGr   1459 non-null   int64\n",
      " 53  KitchenQual    1458 non-null   object\n",
      " 54  TotRmsAbvGrd   1459 non-null   int64\n",
      " 55  Functional     1457 non-null   object\n",
      " 56  Fireplaces     1459 non-null   int64\n",
      " 57  FireplaceQu    729 non-null    object\n",
      " 58  GarageType     1383 non-null   object\n",
      " 59  GarageYrBlt    1381 non-null   float64\n",
      " 60  GarageFinish   1381 non-null   object\n",
      " 61  GarageCars     1458 non-null   float64\n",
      " 62  GarageArea     1458 non-null   float64\n",
      " 63  GarageQual     1381 non-null   object\n",
      " 64  GarageCond     1381 non-null   object\n",
      " 65  PavedDrive     1459 non-null   object\n",
      " 66  WoodDeckSF     1459 non-null   int64\n",
      " 67  OpenPorchSF    1459 non-null   int64\n",
      " 68  EnclosedPorch  1459 non-null   int64\n",
      " 69  3SsnPorch      1459 non-null   int64\n",
      " 70  ScreenPorch    1459 non-null   int64\n",
      " 71  PoolArea       1459 non-null   int64\n",
      " 72  PoolQC         3 non-null      object\n",
      " 73  Fence          290 non-null    object\n",
      " 74  MiscFeature    51 non-null     object\n",
      " 75  MiscVal        1459 non-null   int64\n",
      " 76  MoSold         1459 non-null   int64\n",
      " 77  YrSold         1459 non-null   int64\n",
      " 78  SaleType       1458 non-null   object\n",
      " 79  SaleCondition  1459 non-null   object\n",
      "dtypes: float64(11), int64(26), object(43)\n",
      "memory usage: 879.4+ KB\n"
     ]
    }
   ],
   "source": [
    "test_df.info()"
   ]
  },
  {
   "cell_type": "code",
   "execution_count": 11,
   "id": "35a214a4",
   "metadata": {
    "execution": {
     "iopub.execute_input": "2022-02-28T18:32:09.096044Z",
     "iopub.status.busy": "2022-02-28T18:32:09.095232Z",
     "iopub.status.idle": "2022-02-28T18:32:09.109230Z",
     "shell.execute_reply": "2022-02-28T18:32:09.108685Z",
     "shell.execute_reply.started": "2022-02-28T14:06:19.549183Z"
    },
    "papermill": {
     "duration": 0.057781,
     "end_time": "2022-02-28T18:32:09.109344",
     "exception": false,
     "start_time": "2022-02-28T18:32:09.051563",
     "status": "completed"
    },
    "tags": []
   },
   "outputs": [],
   "source": [
    "test_df['MasVnrArea'].fillna(test_df['MasVnrArea'].median(), inplace=True)\n",
    "test_df['BsmtFinType1'].fillna('Unknown', inplace=True)\n",
    "test_df['BsmtFinSF1'].fillna(test_df['BsmtFinSF1'].median(), inplace=True)\n",
    "test_df['BsmtFinType2'].fillna('Unknown', inplace=True)\n",
    "test_df['BsmtFinSF2'].fillna(test_df['BsmtFinSF2'].median(), inplace=True)\n",
    "test_df['TotalBsmtSF'].fillna(test_df['TotalBsmtSF'].median(), inplace=True)\n",
    "test_df['GarageArea'].fillna(test_df['GarageArea'].median(), inplace = True)"
   ]
  },
  {
   "cell_type": "code",
   "execution_count": 12,
   "id": "dc93aeef",
   "metadata": {
    "execution": {
     "iopub.execute_input": "2022-02-28T18:32:09.190809Z",
     "iopub.status.busy": "2022-02-28T18:32:09.188747Z",
     "iopub.status.idle": "2022-02-28T18:32:09.226605Z",
     "shell.execute_reply": "2022-02-28T18:32:09.225870Z",
     "shell.execute_reply.started": "2022-02-28T14:06:19.581622Z"
    },
    "papermill": {
     "duration": 0.079653,
     "end_time": "2022-02-28T18:32:09.226747",
     "exception": false,
     "start_time": "2022-02-28T18:32:09.147094",
     "status": "completed"
    },
    "tags": []
   },
   "outputs": [
    {
     "name": "stdout",
     "output_type": "stream",
     "text": [
      "<class 'cudf.core.dataframe.DataFrame'>\n",
      "RangeIndex: 1459 entries, 0 to 1458\n",
      "Data columns (total 80 columns):\n",
      " #   Column         Non-Null Count  Dtype\n",
      "---  ------         --------------  -----\n",
      " 0   Id             1459 non-null   int64\n",
      " 1   MSSubClass     1459 non-null   int64\n",
      " 2   MSZoning       1455 non-null   object\n",
      " 3   LotFrontage    1232 non-null   float64\n",
      " 4   LotArea        1459 non-null   int64\n",
      " 5   Street         1459 non-null   object\n",
      " 6   Alley          107 non-null    object\n",
      " 7   LotShape       1459 non-null   object\n",
      " 8   LandContour    1459 non-null   object\n",
      " 9   Utilities      1457 non-null   object\n",
      " 10  LotConfig      1459 non-null   object\n",
      " 11  LandSlope      1459 non-null   object\n",
      " 12  Neighborhood   1459 non-null   object\n",
      " 13  Condition1     1459 non-null   object\n",
      " 14  Condition2     1459 non-null   object\n",
      " 15  BldgType       1459 non-null   object\n",
      " 16  HouseStyle     1459 non-null   object\n",
      " 17  OverallQual    1459 non-null   int64\n",
      " 18  OverallCond    1459 non-null   int64\n",
      " 19  YearBuilt      1459 non-null   int64\n",
      " 20  YearRemodAdd   1459 non-null   int64\n",
      " 21  RoofStyle      1459 non-null   object\n",
      " 22  RoofMatl       1459 non-null   object\n",
      " 23  Exterior1st    1458 non-null   object\n",
      " 24  Exterior2nd    1458 non-null   object\n",
      " 25  MasVnrType     1443 non-null   object\n",
      " 26  MasVnrArea     1459 non-null   float64\n",
      " 27  ExterQual      1459 non-null   object\n",
      " 28  ExterCond      1459 non-null   object\n",
      " 29  Foundation     1459 non-null   object\n",
      " 30  BsmtQual       1415 non-null   object\n",
      " 31  BsmtCond       1414 non-null   object\n",
      " 32  BsmtExposure   1415 non-null   object\n",
      " 33  BsmtFinType1   1459 non-null   object\n",
      " 34  BsmtFinSF1     1459 non-null   float64\n",
      " 35  BsmtFinType2   1459 non-null   object\n",
      " 36  BsmtFinSF2     1459 non-null   float64\n",
      " 37  BsmtUnfSF      1458 non-null   float64\n",
      " 38  TotalBsmtSF    1459 non-null   float64\n",
      " 39  Heating        1459 non-null   object\n",
      " 40  HeatingQC      1459 non-null   object\n",
      " 41  CentralAir     1459 non-null   object\n",
      " 42  Electrical     1459 non-null   object\n",
      " 43  1stFlrSF       1459 non-null   int64\n",
      " 44  2ndFlrSF       1459 non-null   int64\n",
      " 45  LowQualFinSF   1459 non-null   int64\n",
      " 46  GrLivArea      1459 non-null   int64\n",
      " 47  BsmtFullBath   1457 non-null   float64\n",
      " 48  BsmtHalfBath   1457 non-null   float64\n",
      " 49  FullBath       1459 non-null   int64\n",
      " 50  HalfBath       1459 non-null   int64\n",
      " 51  BedroomAbvGr   1459 non-null   int64\n",
      " 52  KitchenAbvGr   1459 non-null   int64\n",
      " 53  KitchenQual    1458 non-null   object\n",
      " 54  TotRmsAbvGrd   1459 non-null   int64\n",
      " 55  Functional     1457 non-null   object\n",
      " 56  Fireplaces     1459 non-null   int64\n",
      " 57  FireplaceQu    729 non-null    object\n",
      " 58  GarageType     1383 non-null   object\n",
      " 59  GarageYrBlt    1381 non-null   float64\n",
      " 60  GarageFinish   1381 non-null   object\n",
      " 61  GarageCars     1458 non-null   float64\n",
      " 62  GarageArea     1459 non-null   float64\n",
      " 63  GarageQual     1381 non-null   object\n",
      " 64  GarageCond     1381 non-null   object\n",
      " 65  PavedDrive     1459 non-null   object\n",
      " 66  WoodDeckSF     1459 non-null   int64\n",
      " 67  OpenPorchSF    1459 non-null   int64\n",
      " 68  EnclosedPorch  1459 non-null   int64\n",
      " 69  3SsnPorch      1459 non-null   int64\n",
      " 70  ScreenPorch    1459 non-null   int64\n",
      " 71  PoolArea       1459 non-null   int64\n",
      " 72  PoolQC         3 non-null      object\n",
      " 73  Fence          290 non-null    object\n",
      " 74  MiscFeature    51 non-null     object\n",
      " 75  MiscVal        1459 non-null   int64\n",
      " 76  MoSold         1459 non-null   int64\n",
      " 77  YrSold         1459 non-null   int64\n",
      " 78  SaleType       1458 non-null   object\n",
      " 79  SaleCondition  1459 non-null   object\n",
      "dtypes: float64(11), int64(26), object(43)\n",
      "memory usage: 878.4+ KB\n"
     ]
    }
   ],
   "source": [
    "test_df.info()"
   ]
  },
  {
   "cell_type": "code",
   "execution_count": 13,
   "id": "a4880b73",
   "metadata": {
    "execution": {
     "iopub.execute_input": "2022-02-28T18:32:09.312517Z",
     "iopub.status.busy": "2022-02-28T18:32:09.311701Z",
     "iopub.status.idle": "2022-02-28T18:32:09.319855Z",
     "shell.execute_reply": "2022-02-28T18:32:09.319462Z",
     "shell.execute_reply.started": "2022-02-28T14:06:19.640773Z"
    },
    "papermill": {
     "duration": 0.053836,
     "end_time": "2022-02-28T18:32:09.319960",
     "exception": false,
     "start_time": "2022-02-28T18:32:09.266124",
     "status": "completed"
    },
    "tags": []
   },
   "outputs": [],
   "source": [
    "x_data = train_df.iloc[:,:-1]"
   ]
  },
  {
   "cell_type": "markdown",
   "id": "128e2528",
   "metadata": {
    "papermill": {
     "duration": 0.037619,
     "end_time": "2022-02-28T18:32:09.395867",
     "exception": false,
     "start_time": "2022-02-28T18:32:09.358248",
     "status": "completed"
    },
    "tags": []
   },
   "source": [
    "## Selecting the required columns"
   ]
  },
  {
   "cell_type": "code",
   "execution_count": 14,
   "id": "163712b6",
   "metadata": {
    "execution": {
     "iopub.execute_input": "2022-02-28T18:32:09.477896Z",
     "iopub.status.busy": "2022-02-28T18:32:09.477123Z",
     "iopub.status.idle": "2022-02-28T18:32:09.479104Z",
     "shell.execute_reply": "2022-02-28T18:32:09.479491Z",
     "shell.execute_reply.started": "2022-02-28T14:06:19.667618Z"
    },
    "papermill": {
     "duration": 0.045511,
     "end_time": "2022-02-28T18:32:09.479619",
     "exception": false,
     "start_time": "2022-02-28T18:32:09.434108",
     "status": "completed"
    },
    "tags": []
   },
   "outputs": [],
   "source": [
    "x_data = x_data[['LotArea', 'OverallQual', 'OverallCond','BsmtFinType1','BsmtFinSF1','BsmtFinType2','BsmtFinSF2','1stFlrSF','2ndFlrSF', 'GrLivArea', 'MasVnrArea', 'YearBuilt', 'YearRemodAdd', 'TotalBsmtSF', 'FullBath','GarageArea']]"
   ]
  },
  {
   "cell_type": "markdown",
   "id": "e252705a",
   "metadata": {
    "execution": {
     "iopub.execute_input": "2022-02-28T14:09:07.445067Z",
     "iopub.status.busy": "2022-02-28T14:09:07.444544Z",
     "iopub.status.idle": "2022-02-28T14:09:07.448709Z",
     "shell.execute_reply": "2022-02-28T14:09:07.447893Z",
     "shell.execute_reply.started": "2022-02-28T14:09:07.445031Z"
    },
    "papermill": {
     "duration": 0.037693,
     "end_time": "2022-02-28T18:32:09.555542",
     "exception": false,
     "start_time": "2022-02-28T18:32:09.517849",
     "status": "completed"
    },
    "tags": []
   },
   "source": [
    "## Encoding the categorical features using one hot encoding"
   ]
  },
  {
   "cell_type": "code",
   "execution_count": 15,
   "id": "658f905c",
   "metadata": {
    "execution": {
     "iopub.execute_input": "2022-02-28T18:32:09.637204Z",
     "iopub.status.busy": "2022-02-28T18:32:09.633969Z",
     "iopub.status.idle": "2022-02-28T18:32:09.690373Z",
     "shell.execute_reply": "2022-02-28T18:32:09.689896Z",
     "shell.execute_reply.started": "2022-02-28T14:06:19.675882Z"
    },
    "papermill": {
     "duration": 0.096976,
     "end_time": "2022-02-28T18:32:09.690508",
     "exception": false,
     "start_time": "2022-02-28T18:32:09.593532",
     "status": "completed"
    },
    "tags": []
   },
   "outputs": [],
   "source": [
    "x_data = pd.get_dummies(x_data)"
   ]
  },
  {
   "cell_type": "code",
   "execution_count": 16,
   "id": "40990445",
   "metadata": {
    "execution": {
     "iopub.execute_input": "2022-02-28T18:32:09.772494Z",
     "iopub.status.busy": "2022-02-28T18:32:09.771732Z",
     "iopub.status.idle": "2022-02-28T18:32:09.773966Z",
     "shell.execute_reply": "2022-02-28T18:32:09.774426Z",
     "shell.execute_reply.started": "2022-02-28T14:06:19.723061Z"
    },
    "papermill": {
     "duration": 0.045739,
     "end_time": "2022-02-28T18:32:09.774558",
     "exception": false,
     "start_time": "2022-02-28T18:32:09.728819",
     "status": "completed"
    },
    "tags": []
   },
   "outputs": [],
   "source": [
    "y_data = train_df.iloc[:,-1]"
   ]
  },
  {
   "cell_type": "markdown",
   "id": "aca7debe",
   "metadata": {
    "papermill": {
     "duration": 0.037743,
     "end_time": "2022-02-28T18:32:09.850773",
     "exception": false,
     "start_time": "2022-02-28T18:32:09.813030",
     "status": "completed"
    },
    "tags": []
   },
   "source": [
    "## Model Training"
   ]
  },
  {
   "cell_type": "code",
   "execution_count": 17,
   "id": "cc2d8814",
   "metadata": {
    "execution": {
     "iopub.execute_input": "2022-02-28T18:32:09.934173Z",
     "iopub.status.busy": "2022-02-28T18:32:09.933362Z",
     "iopub.status.idle": "2022-02-28T18:32:12.953199Z",
     "shell.execute_reply": "2022-02-28T18:32:12.952262Z",
     "shell.execute_reply.started": "2022-02-28T14:06:19.730754Z"
    },
    "papermill": {
     "duration": 3.063804,
     "end_time": "2022-02-28T18:32:12.953355",
     "exception": false,
     "start_time": "2022-02-28T18:32:09.889551",
     "status": "completed"
    },
    "tags": []
   },
   "outputs": [],
   "source": [
    "from cuml.model_selection import train_test_split\n",
    "x_train, x_val, y_train, y_val = train_test_split(x_data, y_data, train_size=0.8)"
   ]
  },
  {
   "cell_type": "code",
   "execution_count": 18,
   "id": "e70b7876",
   "metadata": {
    "execution": {
     "iopub.execute_input": "2022-02-28T18:32:13.037626Z",
     "iopub.status.busy": "2022-02-28T18:32:13.036828Z",
     "iopub.status.idle": "2022-02-28T18:32:13.039281Z",
     "shell.execute_reply": "2022-02-28T18:32:13.038813Z",
     "shell.execute_reply.started": "2022-02-28T14:06:19.753896Z"
    },
    "papermill": {
     "duration": 0.047797,
     "end_time": "2022-02-28T18:32:13.039394",
     "exception": false,
     "start_time": "2022-02-28T18:32:12.991597",
     "status": "completed"
    },
    "tags": []
   },
   "outputs": [],
   "source": [
    "from cuml.linear_model import LinearRegression\n",
    "lr_eig = LinearRegression(fit_intercept = True, normalize = False, algorithm = \"eig\")\n",
    "lr_svd = LinearRegression(fit_intercept = True, normalize = False, algorithm = \"svd\")\n",
    "lr_qr = LinearRegression(fit_intercept = True, normalize = False, algorithm = \"qr\")\n",
    "lr_svdqr = LinearRegression(fit_intercept = True, normalize = False, algorithm = \"svd-qr\")\n",
    "lr_svdjac = LinearRegression(fit_intercept = True, normalize = False, algorithm = \"svd-jacobi\")"
   ]
  },
  {
   "cell_type": "code",
   "execution_count": 19,
   "id": "304083d9",
   "metadata": {
    "execution": {
     "iopub.execute_input": "2022-02-28T18:32:13.120850Z",
     "iopub.status.busy": "2022-02-28T18:32:13.120154Z",
     "iopub.status.idle": "2022-02-28T18:32:15.604682Z",
     "shell.execute_reply": "2022-02-28T18:32:15.604211Z",
     "shell.execute_reply.started": "2022-02-28T14:06:19.769809Z"
    },
    "papermill": {
     "duration": 2.527323,
     "end_time": "2022-02-28T18:32:15.604799",
     "exception": false,
     "start_time": "2022-02-28T18:32:13.077476",
     "status": "completed"
    },
    "tags": []
   },
   "outputs": [
    {
     "data": {
      "text/plain": [
       "LinearRegression()"
      ]
     },
     "execution_count": 19,
     "metadata": {},
     "output_type": "execute_result"
    }
   ],
   "source": [
    "lr_eig.fit(x_train, y_train)\n",
    "lr_svd.fit(x_train, y_train)\n",
    "lr_qr.fit(x_train, y_train)\n",
    "lr_svdqr.fit(x_train, y_train)\n",
    "lr_svdjac.fit(x_train, y_train)"
   ]
  },
  {
   "cell_type": "code",
   "execution_count": 20,
   "id": "d7cfae1f",
   "metadata": {
    "execution": {
     "iopub.execute_input": "2022-02-28T18:32:15.687928Z",
     "iopub.status.busy": "2022-02-28T18:32:15.687120Z",
     "iopub.status.idle": "2022-02-28T18:32:15.732856Z",
     "shell.execute_reply": "2022-02-28T18:32:15.732403Z",
     "shell.execute_reply.started": "2022-02-28T14:06:19.8254Z"
    },
    "papermill": {
     "duration": 0.089197,
     "end_time": "2022-02-28T18:32:15.732994",
     "exception": false,
     "start_time": "2022-02-28T18:32:15.643797",
     "status": "completed"
    },
    "tags": []
   },
   "outputs": [],
   "source": [
    "preds_eig = lr_eig.predict(x_val)\n",
    "preds_svd = lr_svd.predict(x_val)\n",
    "preds_qr = lr_qr.predict(x_val)\n",
    "preds_svdqr = lr_svdqr.predict(x_val)\n",
    "preds_svdjac = lr_svdjac.predict(x_val)"
   ]
  },
  {
   "cell_type": "code",
   "execution_count": 21,
   "id": "9d1b1e53",
   "metadata": {
    "execution": {
     "iopub.execute_input": "2022-02-28T18:32:15.815550Z",
     "iopub.status.busy": "2022-02-28T18:32:15.814712Z",
     "iopub.status.idle": "2022-02-28T18:32:15.818387Z",
     "shell.execute_reply": "2022-02-28T18:32:15.818782Z",
     "shell.execute_reply.started": "2022-02-28T14:06:19.878883Z"
    },
    "papermill": {
     "duration": 0.04777,
     "end_time": "2022-02-28T18:32:15.818907",
     "exception": false,
     "start_time": "2022-02-28T18:32:15.771137",
     "status": "completed"
    },
    "tags": []
   },
   "outputs": [],
   "source": [
    "preds_eig = preds_eig.astype(np.int64)\n",
    "preds_svd = preds_svd.astype(np.int64)\n",
    "preds_qr = preds_qr.astype(np.int64)\n",
    "preds_svdqr = preds_svdqr.astype(np.int64)\n",
    "preds_svdjac = preds_svdjac.astype(np.int64)"
   ]
  },
  {
   "cell_type": "code",
   "execution_count": 22,
   "id": "5aa16048",
   "metadata": {
    "execution": {
     "iopub.execute_input": "2022-02-28T18:32:15.900158Z",
     "iopub.status.busy": "2022-02-28T18:32:15.899628Z",
     "iopub.status.idle": "2022-02-28T18:32:15.903280Z",
     "shell.execute_reply": "2022-02-28T18:32:15.902844Z",
     "shell.execute_reply.started": "2022-02-28T14:06:19.887558Z"
    },
    "papermill": {
     "duration": 0.045466,
     "end_time": "2022-02-28T18:32:15.903391",
     "exception": false,
     "start_time": "2022-02-28T18:32:15.857925",
     "status": "completed"
    },
    "tags": []
   },
   "outputs": [],
   "source": [
    "algos = ['eig','svd','qr','svdqr','svdjacob']"
   ]
  },
  {
   "cell_type": "markdown",
   "id": "7828f3b2",
   "metadata": {
    "execution": {
     "iopub.execute_input": "2022-02-28T14:10:04.733454Z",
     "iopub.status.busy": "2022-02-28T14:10:04.732933Z",
     "iopub.status.idle": "2022-02-28T14:10:04.738108Z",
     "shell.execute_reply": "2022-02-28T14:10:04.736917Z",
     "shell.execute_reply.started": "2022-02-28T14:10:04.733414Z"
    },
    "papermill": {
     "duration": 0.039327,
     "end_time": "2022-02-28T18:32:15.982048",
     "exception": false,
     "start_time": "2022-02-28T18:32:15.942721",
     "status": "completed"
    },
    "tags": []
   },
   "source": [
    "## Model Evaluation"
   ]
  },
  {
   "cell_type": "code",
   "execution_count": 23,
   "id": "0765a002",
   "metadata": {
    "execution": {
     "iopub.execute_input": "2022-02-28T18:32:16.065726Z",
     "iopub.status.busy": "2022-02-28T18:32:16.064934Z",
     "iopub.status.idle": "2022-02-28T18:32:17.285366Z",
     "shell.execute_reply": "2022-02-28T18:32:17.285785Z",
     "shell.execute_reply.started": "2022-02-28T14:06:19.897375Z"
    },
    "papermill": {
     "duration": 1.265607,
     "end_time": "2022-02-28T18:32:17.285942",
     "exception": false,
     "start_time": "2022-02-28T18:32:16.020335",
     "status": "completed"
    },
    "tags": []
   },
   "outputs": [
    {
     "name": "stdout",
     "output_type": "stream",
     "text": [
      "[24603.24657534 24603.24657534 24697.02739726 24603.24657534\n",
      " 24603.24657534]\n"
     ]
    }
   ],
   "source": [
    "from cuml.metrics.regression import mean_absolute_error\n",
    "mae = numpy.empty(shape=[5])\n",
    "mae[0]=(mean_absolute_error(y_val, preds_eig))\n",
    "mae[1]=(mean_absolute_error(y_val, preds_svd))\n",
    "mae[2]=(mean_absolute_error(y_val, preds_qr))\n",
    "mae[3]=(mean_absolute_error(y_val, preds_svdqr))\n",
    "mae[4]=(mean_absolute_error(y_val, preds_svdjac))\n",
    "print(mae)"
   ]
  },
  {
   "cell_type": "code",
   "execution_count": 24,
   "id": "2f25c208",
   "metadata": {
    "execution": {
     "iopub.execute_input": "2022-02-28T18:32:17.369356Z",
     "iopub.status.busy": "2022-02-28T18:32:17.366876Z",
     "iopub.status.idle": "2022-02-28T18:32:17.544162Z",
     "shell.execute_reply": "2022-02-28T18:32:17.543716Z",
     "shell.execute_reply.started": "2022-02-28T14:06:19.912045Z"
    },
    "papermill": {
     "duration": 0.219493,
     "end_time": "2022-02-28T18:32:17.544291",
     "exception": false,
     "start_time": "2022-02-28T18:32:17.324798",
     "status": "completed"
    },
    "tags": []
   },
   "outputs": [
    {
     "data": {
      "image/png": "[encoded data removed]",
      "text/plain": [
       "<Figure size 432x288 with 1 Axes>"
      ]
     },
     "metadata": {
      "needs_background": "light"
     },
     "output_type": "display_data"
    }
   ],
   "source": [
    "import matplotlib.pyplot as plt\n",
    "plt.bar(numpy.array(algos),mae)\n",
    "plt.xlabel('Algorithms')\n",
    "plt.ylabel('Mean Absolute Error')\n",
    "plt.show()"
   ]
  },
  {
   "cell_type": "code",
   "execution_count": 25,
   "id": "35fac52d",
   "metadata": {
    "execution": {
     "iopub.execute_input": "2022-02-28T18:32:17.630860Z",
     "iopub.status.busy": "2022-02-28T18:32:17.630151Z",
     "iopub.status.idle": "2022-02-28T18:32:17.874282Z",
     "shell.execute_reply": "2022-02-28T18:32:17.874973Z",
     "shell.execute_reply.started": "2022-02-28T14:06:20.056731Z"
    },
    "papermill": {
     "duration": 0.290447,
     "end_time": "2022-02-28T18:32:17.875180",
     "exception": false,
     "start_time": "2022-02-28T18:32:17.584733",
     "status": "completed"
    },
    "tags": []
   },
   "outputs": [
    {
     "name": "stdout",
     "output_type": "stream",
     "text": [
      "[1.41555661e+09 1.41555661e+09 1.42136919e+09 1.41555661e+09\n",
      " 1.41555661e+09]\n"
     ]
    }
   ],
   "source": [
    "from cuml.metrics.regression import mean_squared_error\n",
    "mse = numpy.empty(shape=[5])\n",
    "mse[0]=(mean_squared_error(y_val, preds_eig))\n",
    "mse[1]=(mean_squared_error(y_val, preds_svd))\n",
    "mse[2]=(mean_squared_error(y_val, preds_qr))\n",
    "mse[3]=(mean_squared_error(y_val, preds_svdqr))\n",
    "mse[4]=(mean_squared_error(y_val, preds_svdjac))\n",
    "print(mse)"
   ]
  },
  {
   "cell_type": "code",
   "execution_count": 26,
   "id": "ec5f787a",
   "metadata": {
    "execution": {
     "iopub.execute_input": "2022-02-28T18:32:18.101054Z",
     "iopub.status.busy": "2022-02-28T18:32:18.100176Z",
     "iopub.status.idle": "2022-02-28T18:32:18.253455Z",
     "shell.execute_reply": "2022-02-28T18:32:18.253999Z",
     "shell.execute_reply.started": "2022-02-28T14:06:20.072834Z"
    },
    "papermill": {
     "duration": 0.337891,
     "end_time": "2022-02-28T18:32:18.254199",
     "exception": false,
     "start_time": "2022-02-28T18:32:17.916308",
     "status": "completed"
    },
    "tags": []
   },
   "outputs": [
    {
     "data": {
      "image/png": "[encoded data removed]",
      "text/plain": [
       "<Figure size 432x288 with 1 Axes>"
      ]
     },
     "metadata": {
      "needs_background": "light"
     },
     "output_type": "display_data"
    }
   ],
   "source": [
    "import matplotlib.pyplot as plt\n",
    "plt.bar(numpy.array(algos),mse)\n",
    "plt.xlabel('Algorithms')\n",
    "plt.ylabel('Mean Squared Error')\n",
    "plt.show()"
   ]
  },
  {
   "cell_type": "code",
   "execution_count": 27,
   "id": "7573220b",
   "metadata": {
    "execution": {
     "iopub.execute_input": "2022-02-28T18:32:18.342439Z",
     "iopub.status.busy": "2022-02-28T18:32:18.341602Z",
     "iopub.status.idle": "2022-02-28T18:32:18.345986Z",
     "shell.execute_reply": "2022-02-28T18:32:18.345591Z",
     "shell.execute_reply.started": "2022-02-28T14:06:20.226148Z"
    },
    "papermill": {
     "duration": 0.050863,
     "end_time": "2022-02-28T18:32:18.346146",
     "exception": false,
     "start_time": "2022-02-28T18:32:18.295283",
     "status": "completed"
    },
    "tags": []
   },
   "outputs": [],
   "source": [
    "y_val = y_val.astype(np.float64)\n",
    "preds_eig = preds_eig.astype(np.float64)\n",
    "preds_svd = preds_svd.astype(np.float64)\n",
    "preds_qr = preds_qr.astype(np.float64)\n",
    "preds_svdqr = preds_svdqr.astype(np.float64)\n",
    "preds_svdjac = preds_svdjac.astype(np.float64)"
   ]
  },
  {
   "cell_type": "code",
   "execution_count": 28,
   "id": "99caf1ca",
   "metadata": {
    "execution": {
     "iopub.execute_input": "2022-02-28T18:32:18.439657Z",
     "iopub.status.busy": "2022-02-28T18:32:18.438984Z",
     "iopub.status.idle": "2022-02-28T18:32:18.442109Z",
     "shell.execute_reply": "2022-02-28T18:32:18.442713Z",
     "shell.execute_reply.started": "2022-02-28T14:06:20.237534Z"
    },
    "papermill": {
     "duration": 0.055952,
     "end_time": "2022-02-28T18:32:18.442887",
     "exception": false,
     "start_time": "2022-02-28T18:32:18.386935",
     "status": "completed"
    },
    "tags": []
   },
   "outputs": [
    {
     "name": "stdout",
     "output_type": "stream",
     "text": [
      "[0.79469115 0.79469115 0.79384811 0.79469115 0.79469115]\n"
     ]
    }
   ],
   "source": [
    "from cuml.metrics.regression import r2_score\n",
    "r2 = numpy.empty(shape=[5])\n",
    "r2[0]=(r2_score(y_val, preds_eig))\n",
    "r2[1]=(r2_score(y_val, preds_svd))\n",
    "r2[2]=(r2_score(y_val, preds_qr))\n",
    "r2[3]=(r2_score(y_val, preds_svdqr))\n",
    "r2[4]=(r2_score(y_val, preds_svdjac))\n",
    "print(r2)"
   ]
  },
  {
   "cell_type": "code",
   "execution_count": 29,
   "id": "daba1fe5",
   "metadata": {
    "execution": {
     "iopub.execute_input": "2022-02-28T18:32:18.550403Z",
     "iopub.status.busy": "2022-02-28T18:32:18.538640Z",
     "iopub.status.idle": "2022-02-28T18:32:18.709175Z",
     "shell.execute_reply": "2022-02-28T18:32:18.709771Z",
     "shell.execute_reply.started": "2022-02-28T14:06:20.249629Z"
    },
    "papermill": {
     "duration": 0.225191,
     "end_time": "2022-02-28T18:32:18.709910",
     "exception": false,
     "start_time": "2022-02-28T18:32:18.484719",
     "status": "completed"
    },
    "tags": []
   },
   "outputs": [
    {
     "data": {
      "image/png": "[encoded data removed]",
      "text/plain": [
       "<Figure size 432x288 with 1 Axes>"
      ]
     },
     "metadata": {
      "needs_background": "light"
     },
     "output_type": "display_data"
    }
   ],
   "source": [
    "import matplotlib.pyplot as plt\n",
    "plt.bar(numpy.array(algos),r2)\n",
    "plt.xlabel('Algorithms')\n",
    "plt.ylabel('r2 Score')\n",
    "plt.show()"
   ]
  },
  {
   "cell_type": "markdown",
   "id": "1d8417ae",
   "metadata": {
    "papermill": {
     "duration": 0.041311,
     "end_time": "2022-02-28T18:32:18.793139",
     "exception": false,
     "start_time": "2022-02-28T18:32:18.751828",
     "status": "completed"
    },
    "tags": []
   },
   "source": [
    "## Submitting the Results to the Competition"
   ]
  },
  {
   "cell_type": "code",
   "execution_count": 30,
   "id": "6d06d81d",
   "metadata": {
    "execution": {
     "iopub.execute_input": "2022-02-28T18:32:18.884567Z",
     "iopub.status.busy": "2022-02-28T18:32:18.883550Z",
     "iopub.status.idle": "2022-02-28T18:32:18.885645Z",
     "shell.execute_reply": "2022-02-28T18:32:18.886037Z",
     "shell.execute_reply.started": "2022-02-28T14:06:20.415198Z"
    },
    "papermill": {
     "duration": 0.05144,
     "end_time": "2022-02-28T18:32:18.886175",
     "exception": false,
     "start_time": "2022-02-28T18:32:18.834735",
     "status": "completed"
    },
    "tags": []
   },
   "outputs": [],
   "source": [
    "test_df = test_df[['LotArea', 'OverallQual', 'OverallCond','BsmtFinType1','BsmtFinSF1','BsmtFinType2','BsmtFinSF2','1stFlrSF','2ndFlrSF', 'GrLivArea', 'MasVnrArea', 'YearBuilt', 'YearRemodAdd', 'TotalBsmtSF', '1stFlrSF', 'FullBath','GarageArea']]"
   ]
  },
  {
   "cell_type": "code",
   "execution_count": 31,
   "id": "d4131a5e",
   "metadata": {
    "execution": {
     "iopub.execute_input": "2022-02-28T18:32:18.985299Z",
     "iopub.status.busy": "2022-02-28T18:32:18.984504Z",
     "iopub.status.idle": "2022-02-28T18:32:19.023294Z",
     "shell.execute_reply": "2022-02-28T18:32:19.022851Z",
     "shell.execute_reply.started": "2022-02-28T14:06:20.42526Z"
    },
    "papermill": {
     "duration": 0.088714,
     "end_time": "2022-02-28T18:32:19.023422",
     "exception": false,
     "start_time": "2022-02-28T18:32:18.934708",
     "status": "completed"
    },
    "tags": []
   },
   "outputs": [],
   "source": [
    "test_df = pd.get_dummies(test_df)"
   ]
  },
  {
   "cell_type": "code",
   "execution_count": 32,
   "id": "b4b98e2e",
   "metadata": {
    "execution": {
     "iopub.execute_input": "2022-02-28T18:32:19.110338Z",
     "iopub.status.busy": "2022-02-28T18:32:19.109790Z",
     "iopub.status.idle": "2022-02-28T18:32:19.120555Z",
     "shell.execute_reply": "2022-02-28T18:32:19.120977Z",
     "shell.execute_reply.started": "2022-02-28T14:06:20.473643Z"
    },
    "papermill": {
     "duration": 0.056367,
     "end_time": "2022-02-28T18:32:19.121155",
     "exception": false,
     "start_time": "2022-02-28T18:32:19.064788",
     "status": "completed"
    },
    "tags": []
   },
   "outputs": [],
   "source": [
    "submission = pd.read_csv('/kaggle/input/house-prices-advanced-regression-techniques/sample_submission.csv')"
   ]
  },
  {
   "cell_type": "code",
   "execution_count": 33,
   "id": "82478603",
   "metadata": {
    "execution": {
     "iopub.execute_input": "2022-02-28T18:32:19.209512Z",
     "iopub.status.busy": "2022-02-28T18:32:19.208670Z",
     "iopub.status.idle": "2022-02-28T18:32:19.223418Z",
     "shell.execute_reply": "2022-02-28T18:32:19.222927Z",
     "shell.execute_reply.started": "2022-02-28T14:06:20.48514Z"
    },
    "papermill": {
     "duration": 0.060715,
     "end_time": "2022-02-28T18:32:19.223524",
     "exception": false,
     "start_time": "2022-02-28T18:32:19.162809",
     "status": "completed"
    },
    "tags": []
   },
   "outputs": [
    {
     "data": {
      "text/plain": [
       "LinearRegression()"
      ]
     },
     "execution_count": 33,
     "metadata": {},
     "output_type": "execute_result"
    }
   ],
   "source": [
    "lr_final = LinearRegression(fit_intercept = True, normalize = False, algorithm = \"eig\")\n",
    "lr_final.fit(x_data, y_data)"
   ]
  },
  {
   "cell_type": "code",
   "execution_count": 34,
   "id": "ffedcced",
   "metadata": {
    "execution": {
     "iopub.execute_input": "2022-02-28T18:32:19.311615Z",
     "iopub.status.busy": "2022-02-28T18:32:19.310755Z",
     "iopub.status.idle": "2022-02-28T18:32:19.322141Z",
     "shell.execute_reply": "2022-02-28T18:32:19.321691Z",
     "shell.execute_reply.started": "2022-02-28T14:06:20.50636Z"
    },
    "papermill": {
     "duration": 0.057108,
     "end_time": "2022-02-28T18:32:19.322251",
     "exception": false,
     "start_time": "2022-02-28T18:32:19.265143",
     "status": "completed"
    },
    "tags": []
   },
   "outputs": [],
   "source": [
    "submission['SalePrice'] = lr_final.predict(test_df)"
   ]
  },
  {
   "cell_type": "code",
   "execution_count": 35,
   "id": "a3df520b",
   "metadata": {
    "execution": {
     "iopub.execute_input": "2022-02-28T18:32:19.409179Z",
     "iopub.status.busy": "2022-02-28T18:32:19.408650Z",
     "iopub.status.idle": "2022-02-28T18:32:19.416265Z",
     "shell.execute_reply": "2022-02-28T18:32:19.416644Z",
     "shell.execute_reply.started": "2022-02-28T14:06:20.526329Z"
    },
    "papermill": {
     "duration": 0.053096,
     "end_time": "2022-02-28T18:32:19.416773",
     "exception": false,
     "start_time": "2022-02-28T18:32:19.363677",
     "status": "completed"
    },
    "tags": []
   },
   "outputs": [],
   "source": [
    "submission.to_csv(\"submission.csv\", index=False)"
   ]
  },
  {
   "cell_type": "code",
   "execution_count": null,
   "id": "ed905e68",
   "metadata": {
    "papermill": {
     "duration": 0.041262,
     "end_time": "2022-02-28T18:32:19.499534",
     "exception": false,
     "start_time": "2022-02-28T18:32:19.458272",
     "status": "completed"
    },
    "tags": []
   },
   "outputs": [],
   "source": []
  },
  {
   "cell_type": "code",
   "execution_count": null,
   "id": "fdd4a9cc",
   "metadata": {
    "papermill": {
     "duration": 0.040884,
     "end_time": "2022-02-28T18:32:19.581629",
     "exception": false,
     "start_time": "2022-02-28T18:32:19.540745",
     "status": "completed"
    },
    "tags": []
   },
   "outputs": [],
   "source": []
  }
 ],
 "metadata": {
  "kernelspec": {
   "display_name": "Python 3",
   "language": "python",
   "name": "python3"
  },
  "language_info": {
   "codemirror_mode": {
    "name": "ipython",
    "version": 3
   },
   "file_extension": ".py",
   "mimetype": "text/x-python",
   "name": "python",
   "nbconvert_exporter": "python",
   "pygments_lexer": "ipython3",
   "version": "3.7.12"
  },
  "papermill": {
   "default_parameters": {},
   "duration": 27.390699,
   "end_time": "2022-02-28T18:32:20.934368",
   "environment_variables": {},
   "exception": null,
   "input_path": "__notebook__.ipynb",
   "output_path": "__notebook__.ipynb",
   "parameters": {},
   "start_time": "2022-02-28T18:31:53.543669",
   "version": "2.3.3"
  }
 },
 "nbformat": 4,
 "nbformat_minor": 5
}
